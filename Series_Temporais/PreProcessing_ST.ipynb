{
 "cells": [
  {
   "cell_type": "markdown",
   "metadata": {},
   "source": [
    "# <font color = \"red\"> Utilizando a Arquitetura LTSM para prever o próximo valor da Taxa Selic"
   ]
  },
  {
   "cell_type": "code",
   "execution_count": 1,
   "metadata": {},
   "outputs": [],
   "source": [
    "import pandas as pd\n",
    "import numpy as np\n",
    "import tensorflow as tf # modelo de deep learn\n",
    "from sklearn.preprocessing import MinMaxScaler # normalizar os dados\n",
    "from sklearn.metrics import mean_squared_error # calcular o erro\n",
    "import matplotlib.pyplot as plt\n",
    "import seaborn as sns"
   ]
  },
  {
   "cell_type": "code",
   "execution_count": 9,
   "metadata": {},
   "outputs": [],
   "source": [
    "# Carregamento dos dados\n",
    "dados = pd.read_csv(\"C:/Projetos Pessoais/DataScience/Previsao_Juros_BACEN_IA/data/dados_scraping\")"
   ]
  },
  {
   "cell_type": "code",
   "execution_count": 10,
   "metadata": {},
   "outputs": [
    {
     "data": {
      "text/html": [
       "<div>\n",
       "<style scoped>\n",
       "    .dataframe tbody tr th:only-of-type {\n",
       "        vertical-align: middle;\n",
       "    }\n",
       "\n",
       "    .dataframe tbody tr th {\n",
       "        vertical-align: top;\n",
       "    }\n",
       "\n",
       "    .dataframe thead th {\n",
       "        text-align: right;\n",
       "    }\n",
       "</style>\n",
       "<table border=\"1\" class=\"dataframe\">\n",
       "  <thead>\n",
       "    <tr style=\"text-align: right;\">\n",
       "      <th></th>\n",
       "      <th>Data</th>\n",
       "      <th>Taxa_Selic</th>\n",
       "    </tr>\n",
       "  </thead>\n",
       "  <tbody>\n",
       "    <tr>\n",
       "      <th>0</th>\n",
       "      <td>06/11/2024</td>\n",
       "      <td>11,25</td>\n",
       "    </tr>\n",
       "    <tr>\n",
       "      <th>1</th>\n",
       "      <td>18/09/2024</td>\n",
       "      <td>10,75</td>\n",
       "    </tr>\n",
       "    <tr>\n",
       "      <th>2</th>\n",
       "      <td>31/07/2024</td>\n",
       "      <td>10,50</td>\n",
       "    </tr>\n",
       "    <tr>\n",
       "      <th>3</th>\n",
       "      <td>19/06/2024</td>\n",
       "      <td>10,50</td>\n",
       "    </tr>\n",
       "    <tr>\n",
       "      <th>4</th>\n",
       "      <td>08/05/2024</td>\n",
       "      <td>10,50</td>\n",
       "    </tr>\n",
       "    <tr>\n",
       "      <th>...</th>\n",
       "      <td>...</td>\n",
       "      <td>...</td>\n",
       "    </tr>\n",
       "    <tr>\n",
       "      <th>269</th>\n",
       "      <td>23/10/1996</td>\n",
       "      <td>1,78</td>\n",
       "    </tr>\n",
       "    <tr>\n",
       "      <th>270</th>\n",
       "      <td>23/09/1996</td>\n",
       "      <td>1,82</td>\n",
       "    </tr>\n",
       "    <tr>\n",
       "      <th>271</th>\n",
       "      <td>21/08/1996</td>\n",
       "      <td>1,88</td>\n",
       "    </tr>\n",
       "    <tr>\n",
       "      <th>272</th>\n",
       "      <td>30/07/1996</td>\n",
       "      <td>1,90</td>\n",
       "    </tr>\n",
       "    <tr>\n",
       "      <th>273</th>\n",
       "      <td>26/06/1996</td>\n",
       "      <td>1,90</td>\n",
       "    </tr>\n",
       "  </tbody>\n",
       "</table>\n",
       "<p>274 rows × 2 columns</p>\n",
       "</div>"
      ],
      "text/plain": [
       "           Data Taxa_Selic\n",
       "0    06/11/2024      11,25\n",
       "1    18/09/2024      10,75\n",
       "2    31/07/2024      10,50\n",
       "3    19/06/2024      10,50\n",
       "4    08/05/2024      10,50\n",
       "..          ...        ...\n",
       "269  23/10/1996       1,78\n",
       "270  23/09/1996       1,82\n",
       "271  21/08/1996       1,88\n",
       "272  30/07/1996       1,90\n",
       "273  26/06/1996       1,90\n",
       "\n",
       "[274 rows x 2 columns]"
      ]
     },
     "execution_count": 10,
     "metadata": {},
     "output_type": "execute_result"
    }
   ],
   "source": [
    "dados"
   ]
  },
  {
   "cell_type": "markdown",
   "metadata": {},
   "source": [
    "Invertendo a ordem do DataFrame, para facilitar o treinamento do modelo"
   ]
  },
  {
   "cell_type": "code",
   "execution_count": 14,
   "metadata": {},
   "outputs": [
    {
     "data": {
      "text/html": [
       "<div>\n",
       "<style scoped>\n",
       "    .dataframe tbody tr th:only-of-type {\n",
       "        vertical-align: middle;\n",
       "    }\n",
       "\n",
       "    .dataframe tbody tr th {\n",
       "        vertical-align: top;\n",
       "    }\n",
       "\n",
       "    .dataframe thead th {\n",
       "        text-align: right;\n",
       "    }\n",
       "</style>\n",
       "<table border=\"1\" class=\"dataframe\">\n",
       "  <thead>\n",
       "    <tr style=\"text-align: right;\">\n",
       "      <th></th>\n",
       "      <th>Data</th>\n",
       "      <th>Taxa_Selic</th>\n",
       "    </tr>\n",
       "  </thead>\n",
       "  <tbody>\n",
       "    <tr>\n",
       "      <th>0</th>\n",
       "      <td>26/06/1996</td>\n",
       "      <td>1,90</td>\n",
       "    </tr>\n",
       "    <tr>\n",
       "      <th>1</th>\n",
       "      <td>30/07/1996</td>\n",
       "      <td>1,90</td>\n",
       "    </tr>\n",
       "    <tr>\n",
       "      <th>2</th>\n",
       "      <td>21/08/1996</td>\n",
       "      <td>1,88</td>\n",
       "    </tr>\n",
       "    <tr>\n",
       "      <th>3</th>\n",
       "      <td>23/09/1996</td>\n",
       "      <td>1,82</td>\n",
       "    </tr>\n",
       "    <tr>\n",
       "      <th>4</th>\n",
       "      <td>23/10/1996</td>\n",
       "      <td>1,78</td>\n",
       "    </tr>\n",
       "    <tr>\n",
       "      <th>...</th>\n",
       "      <td>...</td>\n",
       "      <td>...</td>\n",
       "    </tr>\n",
       "    <tr>\n",
       "      <th>269</th>\n",
       "      <td>08/05/2024</td>\n",
       "      <td>10,50</td>\n",
       "    </tr>\n",
       "    <tr>\n",
       "      <th>270</th>\n",
       "      <td>19/06/2024</td>\n",
       "      <td>10,50</td>\n",
       "    </tr>\n",
       "    <tr>\n",
       "      <th>271</th>\n",
       "      <td>31/07/2024</td>\n",
       "      <td>10,50</td>\n",
       "    </tr>\n",
       "    <tr>\n",
       "      <th>272</th>\n",
       "      <td>18/09/2024</td>\n",
       "      <td>10,75</td>\n",
       "    </tr>\n",
       "    <tr>\n",
       "      <th>273</th>\n",
       "      <td>06/11/2024</td>\n",
       "      <td>11,25</td>\n",
       "    </tr>\n",
       "  </tbody>\n",
       "</table>\n",
       "<p>274 rows × 2 columns</p>\n",
       "</div>"
      ],
      "text/plain": [
       "           Data Taxa_Selic\n",
       "0    26/06/1996       1,90\n",
       "1    30/07/1996       1,90\n",
       "2    21/08/1996       1,88\n",
       "3    23/09/1996       1,82\n",
       "4    23/10/1996       1,78\n",
       "..          ...        ...\n",
       "269  08/05/2024      10,50\n",
       "270  19/06/2024      10,50\n",
       "271  31/07/2024      10,50\n",
       "272  18/09/2024      10,75\n",
       "273  06/11/2024      11,25\n",
       "\n",
       "[274 rows x 2 columns]"
      ]
     },
     "execution_count": 14,
     "metadata": {},
     "output_type": "execute_result"
    }
   ],
   "source": [
    "dados_selic = dados.iloc[::-1].reset_index(drop=True)\n",
    "\n",
    "# Exibindo o DataFrame invertido\n",
    "dados_selic"
   ]
  },
  {
   "cell_type": "code",
   "execution_count": 42,
   "metadata": {},
   "outputs": [],
   "source": [
    "dados_selic = dados_selic[48:]"
   ]
  },
  {
   "cell_type": "code",
   "execution_count": 43,
   "metadata": {},
   "outputs": [
    {
     "data": {
      "text/html": [
       "<div>\n",
       "<style scoped>\n",
       "    .dataframe tbody tr th:only-of-type {\n",
       "        vertical-align: middle;\n",
       "    }\n",
       "\n",
       "    .dataframe tbody tr th {\n",
       "        vertical-align: top;\n",
       "    }\n",
       "\n",
       "    .dataframe thead th {\n",
       "        text-align: right;\n",
       "    }\n",
       "</style>\n",
       "<table border=\"1\" class=\"dataframe\">\n",
       "  <thead>\n",
       "    <tr style=\"text-align: right;\">\n",
       "      <th></th>\n",
       "      <th>Data</th>\n",
       "      <th>Taxa_Selic</th>\n",
       "    </tr>\n",
       "  </thead>\n",
       "  <tbody>\n",
       "    <tr>\n",
       "      <th>48</th>\n",
       "      <td>19/01/2000</td>\n",
       "      <td>19.00</td>\n",
       "    </tr>\n",
       "    <tr>\n",
       "      <th>49</th>\n",
       "      <td>16/02/2000</td>\n",
       "      <td>19.00</td>\n",
       "    </tr>\n",
       "    <tr>\n",
       "      <th>50</th>\n",
       "      <td>22/03/2000</td>\n",
       "      <td>19.00</td>\n",
       "    </tr>\n",
       "    <tr>\n",
       "      <th>51</th>\n",
       "      <td>28/03/2000</td>\n",
       "      <td>18.50</td>\n",
       "    </tr>\n",
       "    <tr>\n",
       "      <th>52</th>\n",
       "      <td>19/04/2000</td>\n",
       "      <td>18.50</td>\n",
       "    </tr>\n",
       "    <tr>\n",
       "      <th>...</th>\n",
       "      <td>...</td>\n",
       "      <td>...</td>\n",
       "    </tr>\n",
       "    <tr>\n",
       "      <th>269</th>\n",
       "      <td>08/05/2024</td>\n",
       "      <td>10.50</td>\n",
       "    </tr>\n",
       "    <tr>\n",
       "      <th>270</th>\n",
       "      <td>19/06/2024</td>\n",
       "      <td>10.50</td>\n",
       "    </tr>\n",
       "    <tr>\n",
       "      <th>271</th>\n",
       "      <td>31/07/2024</td>\n",
       "      <td>10.50</td>\n",
       "    </tr>\n",
       "    <tr>\n",
       "      <th>272</th>\n",
       "      <td>18/09/2024</td>\n",
       "      <td>10.75</td>\n",
       "    </tr>\n",
       "    <tr>\n",
       "      <th>273</th>\n",
       "      <td>06/11/2024</td>\n",
       "      <td>11.25</td>\n",
       "    </tr>\n",
       "  </tbody>\n",
       "</table>\n",
       "<p>226 rows × 2 columns</p>\n",
       "</div>"
      ],
      "text/plain": [
       "           Data  Taxa_Selic\n",
       "48   19/01/2000       19.00\n",
       "49   16/02/2000       19.00\n",
       "50   22/03/2000       19.00\n",
       "51   28/03/2000       18.50\n",
       "52   19/04/2000       18.50\n",
       "..          ...         ...\n",
       "269  08/05/2024       10.50\n",
       "270  19/06/2024       10.50\n",
       "271  31/07/2024       10.50\n",
       "272  18/09/2024       10.75\n",
       "273  06/11/2024       11.25\n",
       "\n",
       "[226 rows x 2 columns]"
      ]
     },
     "execution_count": 43,
     "metadata": {},
     "output_type": "execute_result"
    }
   ],
   "source": [
    "dados_selic"
   ]
  },
  {
   "cell_type": "code",
   "execution_count": 127,
   "metadata": {},
   "outputs": [
    {
     "data": {
      "image/png": "[encoded data removed]",
      "text/plain": [
       "<Figure size 1200x600 with 1 Axes>"
      ]
     },
     "metadata": {},
     "output_type": "display_data"
    }
   ],
   "source": [
    "dados_plotagem = dados_selic.copy()\n",
    "dados_plotagem['Data'] = pd.to_datetime(dados_plotagem['Data'], format='%d/%m/%Y')\n",
    "\n",
    "# Criando o gráfico com Seaborn\n",
    "plt.figure(figsize=(12, 6))\n",
    "sns.lineplot(data=dados_plotagem, x='Data', y='Taxa_Selic', marker=\"o\")\n",
    "\n",
    "# Personalizando o gráfico\n",
    "plt.title(\"Taxa Selic ao Longo do Tempo (a partir do índice 200)\", fontsize=14)\n",
    "plt.xlabel(\"Data\", fontsize=12)\n",
    "plt.ylabel(\"Taxa Selic (%)\", fontsize=12)\n",
    "plt.xticks(rotation=45)\n",
    "plt.grid(visible=True, linestyle='--', alpha=0.6)\n",
    "plt.tight_layout()\n",
    "\n",
    "# Exibindo o gráfico\n",
    "plt.show()"
   ]
  },
  {
   "cell_type": "code",
   "execution_count": 44,
   "metadata": {},
   "outputs": [
    {
     "data": {
      "text/plain": [
       "Index(['Data', 'Taxa_Selic'], dtype='object')"
      ]
     },
     "execution_count": 44,
     "metadata": {},
     "output_type": "execute_result"
    }
   ],
   "source": [
    "dados.columns"
   ]
  },
  {
   "cell_type": "code",
   "execution_count": 45,
   "metadata": {},
   "outputs": [
    {
     "data": {
      "text/plain": [
       "Data          0\n",
       "Taxa_Selic    0\n",
       "dtype: int64"
      ]
     },
     "execution_count": 45,
     "metadata": {},
     "output_type": "execute_result"
    }
   ],
   "source": [
    "dados.isna().sum()"
   ]
  },
  {
   "cell_type": "markdown",
   "metadata": {},
   "source": [
    " - Alterando o tipo da taxa selic"
   ]
  },
  {
   "cell_type": "code",
   "execution_count": 17,
   "metadata": {},
   "outputs": [],
   "source": [
    "dados_selic[\"Taxa_Selic\"] = dados_selic[\"Taxa_Selic\"].replace(\",\", \".\", regex=True)"
   ]
  },
  {
   "cell_type": "code",
   "execution_count": 18,
   "metadata": {},
   "outputs": [],
   "source": [
    "# Alterando os tipos das variaveis\n",
    "dados_selic['Taxa_Selic'] = dados_selic['Taxa_Selic'].astype(float)"
   ]
  },
  {
   "cell_type": "code",
   "execution_count": 46,
   "metadata": {},
   "outputs": [
    {
     "name": "stdout",
     "output_type": "stream",
     "text": [
      "<class 'pandas.core.frame.DataFrame'>\n",
      "RangeIndex: 226 entries, 48 to 273\n",
      "Data columns (total 2 columns):\n",
      " #   Column      Non-Null Count  Dtype  \n",
      "---  ------      --------------  -----  \n",
      " 0   Data        226 non-null    object \n",
      " 1   Taxa_Selic  226 non-null    float64\n",
      "dtypes: float64(1), object(1)\n",
      "memory usage: 3.7+ KB\n"
     ]
    }
   ],
   "source": [
    "dados_selic.info()"
   ]
  },
  {
   "cell_type": "code",
   "execution_count": 47,
   "metadata": {},
   "outputs": [],
   "source": [
    "# Fazer plotagens da inflação aqui\n",
    "dados_selic_plot = dados_selic.copy()"
   ]
  },
  {
   "cell_type": "markdown",
   "metadata": {},
   "source": [
    " - Iniciando Pré Processamento dos dados"
   ]
  },
  {
   "cell_type": "code",
   "execution_count": 48,
   "metadata": {},
   "outputs": [],
   "source": [
    "# Transformando a taxa selic em Matriz\n",
    "\n",
    "selic = dados_selic['Taxa_Selic'].values.reshape(-1, 1)"
   ]
  },
  {
   "cell_type": "code",
   "execution_count": 49,
   "metadata": {},
   "outputs": [],
   "source": [
    "# Função para criar o dataset para o modelo LSTM com look_back\n",
    "# O parâmetro look back define o numero de passos no tempo que o modelo usará para fazer cada previsõa\n",
    "# a ideia de \"veja os ultimos 3 dados e preveja o 4\"\n",
    "\n",
    "def func_cria_dataset(data, look_back = 1):\n",
    "   \n",
    "   # Inicializa duas listas vazias, X e Y, que conterão as sequências de entrada e saída\n",
    "   X, Y = [], []\n",
    "   # Itera pelo conjunto de dados menos o valor de look_back, Isso é feiro para evitar índices fora dos limites do array\n",
    "   for i in range(len(data) - look_back):      \n",
    "      # Coleta uma sequência de dados de tamanho look_back começando no índice i\n",
    "      a = data[i:(i + look_back), 0]\n",
    "      # Adiciona a sequência à lista X\n",
    "      X.append(a)\n",
    "      # Adiciona o valor imediatamente após a sequência de look_back à lista Y. Esse valor será o target.\n",
    "      Y.append(data[i + look_back, 0])\n",
    "\n",
    "   # Converte X e Y para arrays numpy para compatibilidade com a maioria das bibliotecas de machine learninog\n",
    "   return np.array(X), np.array(Y)"
   ]
  },
  {
   "cell_type": "code",
   "execution_count": 52,
   "metadata": {},
   "outputs": [],
   "source": [
    "# Dividimos os dados em treinamento e teste (respeitando a ordem cronológica dos dados)\n",
    "\n",
    "indice = int(len(selic) * 0.85)\n",
    "dados_treino, dados_teste = selic[0:indice, :], selic[indice:len(selic), :] "
   ]
  },
  {
   "cell_type": "code",
   "execution_count": 54,
   "metadata": {},
   "outputs": [
    {
     "data": {
      "text/plain": [
       "array([[19. ],\n",
       "       [19. ],\n",
       "       [19. ],\n",
       "       [18.5],\n",
       "       [18.5],\n",
       "       [18.5],\n",
       "       [17.5],\n",
       "       [17. ],\n",
       "       [16.5],\n",
       "       [16.5]])"
      ]
     },
     "execution_count": 54,
     "metadata": {},
     "output_type": "execute_result"
    }
   ],
   "source": [
    "dados_treino[:10]"
   ]
  },
  {
   "cell_type": "code",
   "execution_count": 55,
   "metadata": {},
   "outputs": [
    {
     "data": {
      "text/plain": [
       "(192, 34)"
      ]
     },
     "execution_count": 55,
     "metadata": {},
     "output_type": "execute_result"
    }
   ],
   "source": [
    "len(dados_treino), len(dados_teste)"
   ]
  },
  {
   "cell_type": "code",
   "execution_count": 56,
   "metadata": {},
   "outputs": [],
   "source": [
    "# Normaliza os dados (Requerimento para redes neurais)\n",
    "\n",
    "scaler = MinMaxScaler(feature_range = (0, 1))"
   ]
  },
  {
   "cell_type": "code",
   "execution_count": 59,
   "metadata": {},
   "outputs": [],
   "source": [
    "# Treina e aplica o sclaer emt reino e somente aplica em teste\n",
    "\n",
    "dados_treino_norm = scaler.fit_transform(dados_treino)\n",
    "dados_teste_norm = scaler.transform(dados_teste)"
   ]
  },
  {
   "cell_type": "code",
   "execution_count": 62,
   "metadata": {},
   "outputs": [
    {
     "data": {
      "text/plain": [
       "array([[0.        ],\n",
       "       [0.        ],\n",
       "       [0.        ],\n",
       "       [0.        ],\n",
       "       [0.03061224],\n",
       "       [0.06122449],\n",
       "       [0.09183673],\n",
       "       [0.13265306],\n",
       "       [0.17346939],\n",
       "       [0.23469388],\n",
       "       [0.29591837],\n",
       "       [0.35714286],\n",
       "       [0.39795918],\n",
       "       [0.43877551],\n",
       "       [0.45918367],\n",
       "       [0.47959184],\n",
       "       [0.47959184],\n",
       "       [0.47959184],\n",
       "       [0.47959184],\n",
       "       [0.47959184]])"
      ]
     },
     "execution_count": 62,
     "metadata": {},
     "output_type": "execute_result"
    }
   ],
   "source": [
    "dados_teste_norm[:20]"
   ]
  },
  {
   "cell_type": "code",
   "execution_count": 89,
   "metadata": {},
   "outputs": [],
   "source": [
    "#  Criamos os datasets para o modelo LSTM\n",
    "\n",
    "look_back = 3\n",
    "X_treino, y_treino = func_cria_dataset(dados_treino_norm, look_back)\n",
    "X_teste, y_teste = func_cria_dataset(dados_teste_norm, look_back)"
   ]
  },
  {
   "cell_type": "code",
   "execution_count": 90,
   "metadata": {},
   "outputs": [
    {
     "data": {
      "text/plain": [
       "array([[0.69387755, 0.69387755, 0.69387755],\n",
       "       [0.69387755, 0.69387755, 0.67346939],\n",
       "       [0.69387755, 0.67346939, 0.67346939],\n",
       "       [0.67346939, 0.67346939, 0.67346939],\n",
       "       [0.67346939, 0.67346939, 0.63265306]])"
      ]
     },
     "execution_count": 90,
     "metadata": {},
     "output_type": "execute_result"
    }
   ],
   "source": [
    "X_treino[:5]"
   ]
  },
  {
   "cell_type": "code",
   "execution_count": 91,
   "metadata": {},
   "outputs": [
    {
     "data": {
      "text/plain": [
       "array([0.67346939, 0.67346939, 0.67346939, 0.63265306, 0.6122449 ,\n",
       "       0.59183673, 0.59183673, 0.59183673, 0.59183673])"
      ]
     },
     "execution_count": 91,
     "metadata": {},
     "output_type": "execute_result"
    }
   ],
   "source": [
    "y_treino[:9]"
   ]
  },
  {
   "cell_type": "code",
   "execution_count": 92,
   "metadata": {},
   "outputs": [],
   "source": [
    "#  Reshape dos dados para [samples, time steps, features] - Requerimento para o modelo LSTM\n",
    "\n",
    "X_treino = np.reshape(X_treino, (X_treino.shape[0], X_treino.shape[1], 1))\n",
    "X_teste = np.reshape(X_teste, (X_teste.shape[0], X_teste.shape[1], 1))"
   ]
  },
  {
   "cell_type": "code",
   "execution_count": 93,
   "metadata": {},
   "outputs": [
    {
     "data": {
      "text/plain": [
       "array([[[0.69387755],\n",
       "        [0.69387755],\n",
       "        [0.69387755]],\n",
       "\n",
       "       [[0.69387755],\n",
       "        [0.69387755],\n",
       "        [0.67346939]]])"
      ]
     },
     "execution_count": 93,
     "metadata": {},
     "output_type": "execute_result"
    }
   ],
   "source": [
    "X_treino[:2]"
   ]
  },
  {
   "cell_type": "markdown",
   "metadata": {},
   "source": [
    "## <font color = \"red\"> Construção do Modelo LSTM"
   ]
  },
  {
   "cell_type": "code",
   "execution_count": 115,
   "metadata": {},
   "outputs": [],
   "source": [
    "# 50 neurônios artificais\n",
    "\n",
    "modelo = tf.keras.models.Sequential([tf.keras.layers.LSTM(60, input_shape = (look_back, 1)),\n",
    "                                     tf.keras.layers.Dense(1)])"
   ]
  },
  {
   "cell_type": "code",
   "execution_count": 116,
   "metadata": {},
   "outputs": [],
   "source": [
    "# Compila o modelo\n",
    "# Nesta etapa, aplica o algorítmo de otimização que aplica o back propagation, no caso foi o \"adam\"\n",
    "# função de erro \n",
    "modelo.compile(optimizer = 'adam', loss = 'mean_squared_error')"
   ]
  },
  {
   "cell_type": "code",
   "execution_count": 117,
   "metadata": {},
   "outputs": [
    {
     "name": "stdout",
     "output_type": "stream",
     "text": [
      "Epoch 1/50\n",
      "189/189 [==============================] - 3s 2ms/step - loss: 0.0256\n",
      "Epoch 2/50\n",
      "189/189 [==============================] - 0s 2ms/step - loss: 0.0036\n",
      "Epoch 3/50\n",
      "189/189 [==============================] - 0s 2ms/step - loss: 0.0030\n",
      "Epoch 4/50\n",
      "189/189 [==============================] - 0s 2ms/step - loss: 0.0036\n",
      "Epoch 5/50\n",
      "189/189 [==============================] - 0s 2ms/step - loss: 0.0032\n",
      "Epoch 6/50\n",
      "189/189 [==============================] - 0s 2ms/step - loss: 0.0029\n",
      "Epoch 7/50\n",
      "189/189 [==============================] - 0s 2ms/step - loss: 0.0027\n",
      "Epoch 8/50\n",
      "189/189 [==============================] - 0s 2ms/step - loss: 0.0028\n",
      "Epoch 9/50\n",
      "189/189 [==============================] - 0s 2ms/step - loss: 0.0025\n",
      "Epoch 10/50\n",
      "189/189 [==============================] - 0s 2ms/step - loss: 0.0024\n",
      "Epoch 11/50\n",
      "189/189 [==============================] - 0s 2ms/step - loss: 0.0028\n",
      "Epoch 12/50\n",
      "189/189 [==============================] - 0s 3ms/step - loss: 0.0024\n",
      "Epoch 13/50\n",
      "189/189 [==============================] - 0s 2ms/step - loss: 0.0021\n",
      "Epoch 14/50\n",
      "189/189 [==============================] - 0s 2ms/step - loss: 0.0024\n",
      "Epoch 15/50\n",
      "189/189 [==============================] - 0s 2ms/step - loss: 0.0023\n",
      "Epoch 16/50\n",
      "189/189 [==============================] - 0s 2ms/step - loss: 0.0020\n",
      "Epoch 17/50\n",
      "189/189 [==============================] - 0s 2ms/step - loss: 0.0020\n",
      "Epoch 18/50\n",
      "189/189 [==============================] - 0s 2ms/step - loss: 0.0018\n",
      "Epoch 19/50\n",
      "189/189 [==============================] - 0s 2ms/step - loss: 0.0018\n",
      "Epoch 20/50\n",
      "189/189 [==============================] - 0s 2ms/step - loss: 0.0017\n",
      "Epoch 21/50\n",
      "189/189 [==============================] - 0s 2ms/step - loss: 0.0022\n",
      "Epoch 22/50\n",
      "189/189 [==============================] - 0s 2ms/step - loss: 0.0016\n",
      "Epoch 23/50\n",
      "189/189 [==============================] - 0s 2ms/step - loss: 0.0015\n",
      "Epoch 24/50\n",
      "189/189 [==============================] - 0s 2ms/step - loss: 0.0016\n",
      "Epoch 25/50\n",
      "189/189 [==============================] - 0s 2ms/step - loss: 0.0012\n",
      "Epoch 26/50\n",
      "189/189 [==============================] - 0s 2ms/step - loss: 0.0012\n",
      "Epoch 27/50\n",
      "189/189 [==============================] - 0s 2ms/step - loss: 0.0011\n",
      "Epoch 28/50\n",
      "189/189 [==============================] - 0s 3ms/step - loss: 0.0011\n",
      "Epoch 29/50\n",
      "189/189 [==============================] - 1s 3ms/step - loss: 9.9955e-04\n",
      "Epoch 30/50\n",
      "189/189 [==============================] - 1s 6ms/step - loss: 9.7807e-04\n",
      "Epoch 31/50\n",
      "189/189 [==============================] - 1s 3ms/step - loss: 7.5586e-04\n",
      "Epoch 32/50\n",
      "189/189 [==============================] - 1s 3ms/step - loss: 7.6009e-04\n",
      "Epoch 33/50\n",
      "189/189 [==============================] - 0s 2ms/step - loss: 6.3090e-04\n",
      "Epoch 34/50\n",
      "189/189 [==============================] - 0s 3ms/step - loss: 6.5230e-04\n",
      "Epoch 35/50\n",
      "189/189 [==============================] - 1s 3ms/step - loss: 6.5955e-04\n",
      "Epoch 36/50\n",
      "189/189 [==============================] - 1s 3ms/step - loss: 5.8806e-04\n",
      "Epoch 37/50\n",
      "189/189 [==============================] - 1s 3ms/step - loss: 6.5179e-04\n",
      "Epoch 38/50\n",
      "189/189 [==============================] - 1s 3ms/step - loss: 6.5151e-04\n",
      "Epoch 39/50\n",
      "189/189 [==============================] - 1s 3ms/step - loss: 5.7424e-04\n",
      "Epoch 40/50\n",
      "189/189 [==============================] - 0s 2ms/step - loss: 5.3795e-04\n",
      "Epoch 41/50\n",
      "189/189 [==============================] - 0s 2ms/step - loss: 5.5391e-04\n",
      "Epoch 42/50\n",
      "189/189 [==============================] - 0s 3ms/step - loss: 5.1676e-04\n",
      "Epoch 43/50\n",
      "189/189 [==============================] - 1s 4ms/step - loss: 4.9278e-04\n",
      "Epoch 44/50\n",
      "189/189 [==============================] - 1s 7ms/step - loss: 5.0386e-04\n",
      "Epoch 45/50\n",
      "189/189 [==============================] - 1s 5ms/step - loss: 4.5861e-04\n",
      "Epoch 46/50\n",
      "189/189 [==============================] - 1s 4ms/step - loss: 6.2702e-04\n",
      "Epoch 47/50\n",
      "189/189 [==============================] - 1s 3ms/step - loss: 5.6074e-04\n",
      "Epoch 48/50\n",
      "189/189 [==============================] - 1s 3ms/step - loss: 5.4724e-04\n",
      "Epoch 49/50\n",
      "189/189 [==============================] - 1s 3ms/step - loss: 5.3903e-04\n",
      "Epoch 50/50\n",
      "189/189 [==============================] - 1s 3ms/step - loss: 4.7456e-04\n"
     ]
    },
    {
     "data": {
      "text/plain": [
       "<keras.callbacks.History at 0x18cd908feb0>"
      ]
     },
     "execution_count": 117,
     "metadata": {},
     "output_type": "execute_result"
    }
   ],
   "source": [
    "# Treinamento do modelo\n",
    "# Batch_size = alimenta 1 registro por vez\n",
    "# verbose mostra na tela o treinmaneot em andamento\n",
    "\n",
    "modelo.fit(X_treino, y_treino, epochs = 50, batch_size = 1, verbose = 1)"
   ]
  },
  {
   "cell_type": "code",
   "execution_count": 118,
   "metadata": {},
   "outputs": [
    {
     "name": "stdout",
     "output_type": "stream",
     "text": [
      "6/6 [==============================] - 0s 2ms/step\n",
      "1/1 [==============================] - 0s 20ms/step\n"
     ]
    }
   ],
   "source": [
    "# Fazendo previsões com o modelo\n",
    "\n",
    "previsao_treino = modelo.predict(X_treino)\n",
    "previsao_teste = modelo.predict(X_teste)"
   ]
  },
  {
   "cell_type": "markdown",
   "metadata": {},
   "source": [
    "## CALCULANDO ERRO"
   ]
  },
  {
   "cell_type": "code",
   "execution_count": 119,
   "metadata": {},
   "outputs": [],
   "source": [
    "# Transformar de volta para a escala orignial e calcular o erro do modelo\n",
    "\n",
    "previsao_treino = scaler.inverse_transform(previsao_treino)\n",
    "y_treino_rescaled = scaler.inverse_transform([y_treino])\n",
    "previsao_teste = scaler.inverse_transform(previsao_teste)\n",
    "y_teste_rescaled = scaler.inverse_transform([y_teste])"
   ]
  },
  {
   "cell_type": "code",
   "execution_count": 120,
   "metadata": {},
   "outputs": [
    {
     "data": {
      "text/plain": [
       "array([[ 2.  ,  2.75,  3.5 ,  4.25,  5.25,  6.25,  7.75,  9.25, 10.75,\n",
       "        11.75, 12.75, 13.25, 13.75, 13.75, 13.75, 13.75, 13.75, 13.75,\n",
       "        13.75, 13.75, 13.25, 12.75, 12.25, 11.75, 11.25, 10.75, 10.5 ,\n",
       "        10.5 , 10.5 , 10.75, 11.25]])"
      ]
     },
     "execution_count": 120,
     "metadata": {},
     "output_type": "execute_result"
    }
   ],
   "source": [
    "y_teste_rescaled"
   ]
  },
  {
   "cell_type": "code",
   "execution_count": 121,
   "metadata": {},
   "outputs": [
    {
     "name": "stdout",
     "output_type": "stream",
     "text": [
      "\n",
      "RMSE em treino: 0.77\n",
      "\n",
      "\n",
      "RMSE em teste: 0.67\n",
      "\n"
     ]
    }
   ],
   "source": [
    "# Calcula o RMSE\n",
    "\n",
    "train_score = np.sqrt(mean_squared_error(y_treino_rescaled[0],\n",
    "                                         previsao_treino[:,0]))\n",
    "print(f\"\\nRMSE em treino: {train_score:.2f}\\n\")\n",
    "\n",
    "teste_score = np.sqrt(mean_squared_error(y_teste_rescaled[0],\n",
    "                                         previsao_teste[:,0]))\n",
    "print(f\"\\nRMSE em teste: {teste_score:.2f}\\n\")"
   ]
  },
  {
   "cell_type": "code",
   "execution_count": 122,
   "metadata": {},
   "outputs": [],
   "source": [
    "# Ajustar os índices para dados originais e previsões a fim de entregar o resultado em formato de plot\n",
    "\n",
    "# Cria um índice para os dados de treino originais, começando em 'look_back' e terminando em 'look_back + len(y_treino_rescaled[0])'.\n",
    "# Este índice será utilizado para associar cada ponto de dado de treino ao seu ano correspondente no DataFrame 'df_dsa'.\n",
    "original_train_data_index = dados_selic['Data'][look_back:look_back + len(y_treino_rescaled[0])]\n",
    "\n",
    "# Cria um índice para os dados de teste originais.\n",
    "# Começa a partir do final dos dados de treino padronizados e vai até o final dos dados de teste padronizados.\n",
    "# O '2 * look_back' é utilizado para ajustar o índice corretamente.\n",
    "original_test_data_index = dados_selic['Data'][len(y_treino_rescaled[0]) + 2 * look_back:len(y_treino_rescaled[0]) + 2 * look_back + len(y_teste_rescaled[0])]\n",
    "\n",
    "# Cria um índice para os valores previstos em treino, começando em 'look_back' e terminando em 'look_back + len(previsao_treino)'.\n",
    "# Este índice será utilizado para associar cada ponto previsto no conjunto de treino ao seu Data correspondente no DataFrame 'dados_selic'.\n",
    "predicted_train_data_index = dados_selic['Data'][look_back:look_back + len(previsao_treino)]\n",
    "\n",
    "# Cria um índice para os valores previstos em teste.\n",
    "predicted_test_data_index = dados_selic['Data'][len(y_treino_rescaled[0]) + 2 * look_back:len(y_treino_rescaled[0]) + 2 * look_back+len(previsao_teste)]\n",
    "\n"
   ]
  },
  {
   "cell_type": "code",
   "execution_count": 123,
   "metadata": {},
   "outputs": [
    {
     "data": {
      "image/png": "[encoded data removed]",
      "text/plain": [
       "<Figure size 1500x600 with 1 Axes>"
      ]
     },
     "metadata": {},
     "output_type": "display_data"
    }
   ],
   "source": [
    "# Plotar os resultados\n",
    "plt.figure(figsize = (15,6))\n",
    "\n",
    "plt.plot(original_train_data_index, y_treino_rescaled[0], label = \"Dados de Treino Originais\", color = \"blue\")\n",
    "\n",
    "plt.plot(predicted_train_data_index, previsao_treino[:, 0], label = \"Previsões em Treino\", color = \"green\")\n",
    "\n",
    "plt.plot(original_test_data_index, y_teste_rescaled[0], label = \"Dados de Teste Originais\", color = \"black\")\n",
    "\n",
    "for i, value in enumerate(y_teste_rescaled[0]):\n",
    "    plt.annotate(f\"{value:.2f}\", (original_test_data_index.iloc[i], value), fontsize = 7, ha = 'center', va = 'bottom')\n",
    "\n",
    "plt.plot(predicted_test_data_index, previsao_teste[:, 0], label = \"Previsões em Teste\", color = \"red\")\n",
    "\n",
    "for i, value in enumerate(previsao_teste[:, 0]):\n",
    "    plt.annotate(f\"{value:.2f}\", (predicted_test_data_index.iloc[i], value), fontsize = 7, ha = 'center', va = 'bottom')\n",
    "\n",
    "plt.title(\"Inflação Real vs. Inflação Prevista com IA\")\n",
    "plt.legend()\n",
    "plt.show()"
   ]
  },
  {
   "cell_type": "code",
   "execution_count": 124,
   "metadata": {},
   "outputs": [
    {
     "name": "stdout",
     "output_type": "stream",
     "text": [
      "1/1 [==============================] - 0s 21ms/step\n",
      "1/1 [==============================] - 0s 28ms/step\n",
      "\n",
      "Previsão da Inflação Para 2024: 11.89\n",
      "Previsão da Inflação Para 2025: 12.67\n",
      "\n",
      "Lab Concluído. Obrigado, DSA!\n"
     ]
    }
   ],
   "source": [
    "last_data = dados_teste_norm[-look_back:]\n",
    "last_data = np.reshape(last_data, (1, look_back, 1))\n",
    "\n",
    "# Lista\n",
    "lista_previsoes = []\n",
    "\n",
    "# Loop de Previsão para prever 2 anos (2024 e 2025)\n",
    "for _ in range(2):  \n",
    "\n",
    "    # Previsão com o modelo (usamos os dados normalizados)\n",
    "    prediction = modelo.predict(last_data)\n",
    "\n",
    "    # Adiciona a previsão à lista de previsões\n",
    "    lista_previsoes.append(prediction[0, 0])\n",
    "\n",
    "    # Atualiza os dados para incluir a nova previsão e remover o valor mais antigo\n",
    "    last_data = np.roll(last_data, shift = -1)\n",
    "    last_data[0, look_back - 1, 0] = prediction\n",
    "\n",
    "# Transformar de volta para a escala original\n",
    "lista_previsoes_rescaled = scaler.inverse_transform(np.array(lista_previsoes).reshape(-1, 1))\n",
    "\n",
    "print(f\"\\nPrevisão da Inflação Para 2024: {lista_previsoes_rescaled[0, 0]:.2f}\")\n",
    "print(f\"Previsão da Inflação Para 2025: {lista_previsoes_rescaled[1, 0]:.2f}\")\n",
    "\n",
    "print(\"\\nLab Concluído. Obrigado, DSA!\")\n"
   ]
  },
  {
   "cell_type": "code",
   "execution_count": 125,
   "metadata": {},
   "outputs": [
    {
     "data": {
      "text/plain": [
       "array([[[0.37755102],\n",
       "        [0.40370393],\n",
       "        [0.43553445]]])"
      ]
     },
     "execution_count": 125,
     "metadata": {},
     "output_type": "execute_result"
    }
   ],
   "source": [
    "last_data"
   ]
  },
  {
   "cell_type": "code",
   "execution_count": null,
   "metadata": {},
   "outputs": [],
   "source": []
  }
 ],
 "metadata": {
  "kernelspec": {
   "display_name": "base",
   "language": "python",
   "name": "python3"
  },
  "language_info": {
   "codemirror_mode": {
    "name": "ipython",
    "version": 3
   },
   "file_extension": ".py",
   "mimetype": "text/x-python",
   "name": "python",
   "nbconvert_exporter": "python",
   "pygments_lexer": "ipython3",
   "version": "3.9.13"
  }
 },
 "nbformat": 4,
 "nbformat_minor": 2
}
