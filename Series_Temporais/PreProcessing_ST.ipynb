{
 "cells": [
  {
   "cell_type": "markdown",
   "metadata": {},
   "source": [
    "# <font color = \"red\"> Utilizando a Arquitetura LTSM para prever o próximo valor da Taxa Selic"
   ]
  },
  {
   "cell_type": "code",
   "execution_count": 154,
   "metadata": {},
   "outputs": [],
   "source": [
    "import pandas as pd\n",
    "import numpy as np\n",
    "import tensorflow as tf # modelo de deep learn\n",
    "from tensorflow.keras.optimizers import RMSprop\n",
    "from sklearn.preprocessing import MinMaxScaler # normalizar os dados\n",
    "from sklearn.metrics import mean_squared_error # calcular o erro\n",
    "import matplotlib.pyplot as plt\n",
    "import seaborn as sns\n",
    "import math"
   ]
  },
  {
   "cell_type": "code",
   "execution_count": 3,
   "metadata": {},
   "outputs": [],
   "source": [
    "# Carregamento dos dados\n",
    "dados = pd.read_csv(\"C:/Projetos Pessoais/DataScience/Previsao_Juros_BACEN_IA/data/dados_scraping\")"
   ]
  },
  {
   "cell_type": "code",
   "execution_count": 4,
   "metadata": {},
   "outputs": [
    {
     "data": {
      "text/html": [
       "<div>\n",
       "<style scoped>\n",
       "    .dataframe tbody tr th:only-of-type {\n",
       "        vertical-align: middle;\n",
       "    }\n",
       "\n",
       "    .dataframe tbody tr th {\n",
       "        vertical-align: top;\n",
       "    }\n",
       "\n",
       "    .dataframe thead th {\n",
       "        text-align: right;\n",
       "    }\n",
       "</style>\n",
       "<table border=\"1\" class=\"dataframe\">\n",
       "  <thead>\n",
       "    <tr style=\"text-align: right;\">\n",
       "      <th></th>\n",
       "      <th>Data</th>\n",
       "      <th>Taxa_Selic</th>\n",
       "    </tr>\n",
       "  </thead>\n",
       "  <tbody>\n",
       "    <tr>\n",
       "      <th>0</th>\n",
       "      <td>06/11/2024</td>\n",
       "      <td>11,25</td>\n",
       "    </tr>\n",
       "    <tr>\n",
       "      <th>1</th>\n",
       "      <td>18/09/2024</td>\n",
       "      <td>10,75</td>\n",
       "    </tr>\n",
       "    <tr>\n",
       "      <th>2</th>\n",
       "      <td>31/07/2024</td>\n",
       "      <td>10,50</td>\n",
       "    </tr>\n",
       "    <tr>\n",
       "      <th>3</th>\n",
       "      <td>19/06/2024</td>\n",
       "      <td>10,50</td>\n",
       "    </tr>\n",
       "    <tr>\n",
       "      <th>4</th>\n",
       "      <td>08/05/2024</td>\n",
       "      <td>10,50</td>\n",
       "    </tr>\n",
       "    <tr>\n",
       "      <th>...</th>\n",
       "      <td>...</td>\n",
       "      <td>...</td>\n",
       "    </tr>\n",
       "    <tr>\n",
       "      <th>269</th>\n",
       "      <td>23/10/1996</td>\n",
       "      <td>1,78</td>\n",
       "    </tr>\n",
       "    <tr>\n",
       "      <th>270</th>\n",
       "      <td>23/09/1996</td>\n",
       "      <td>1,82</td>\n",
       "    </tr>\n",
       "    <tr>\n",
       "      <th>271</th>\n",
       "      <td>21/08/1996</td>\n",
       "      <td>1,88</td>\n",
       "    </tr>\n",
       "    <tr>\n",
       "      <th>272</th>\n",
       "      <td>30/07/1996</td>\n",
       "      <td>1,90</td>\n",
       "    </tr>\n",
       "    <tr>\n",
       "      <th>273</th>\n",
       "      <td>26/06/1996</td>\n",
       "      <td>1,90</td>\n",
       "    </tr>\n",
       "  </tbody>\n",
       "</table>\n",
       "<p>274 rows × 2 columns</p>\n",
       "</div>"
      ],
      "text/plain": [
       "           Data Taxa_Selic\n",
       "0    06/11/2024      11,25\n",
       "1    18/09/2024      10,75\n",
       "2    31/07/2024      10,50\n",
       "3    19/06/2024      10,50\n",
       "4    08/05/2024      10,50\n",
       "..          ...        ...\n",
       "269  23/10/1996       1,78\n",
       "270  23/09/1996       1,82\n",
       "271  21/08/1996       1,88\n",
       "272  30/07/1996       1,90\n",
       "273  26/06/1996       1,90\n",
       "\n",
       "[274 rows x 2 columns]"
      ]
     },
     "execution_count": 4,
     "metadata": {},
     "output_type": "execute_result"
    }
   ],
   "source": [
    "dados"
   ]
  },
  {
   "cell_type": "markdown",
   "metadata": {},
   "source": [
    "Invertendo a ordem do DataFrame, para facilitar o treinamento do modelo"
   ]
  },
  {
   "cell_type": "code",
   "execution_count": 5,
   "metadata": {},
   "outputs": [
    {
     "data": {
      "text/html": [
       "<div>\n",
       "<style scoped>\n",
       "    .dataframe tbody tr th:only-of-type {\n",
       "        vertical-align: middle;\n",
       "    }\n",
       "\n",
       "    .dataframe tbody tr th {\n",
       "        vertical-align: top;\n",
       "    }\n",
       "\n",
       "    .dataframe thead th {\n",
       "        text-align: right;\n",
       "    }\n",
       "</style>\n",
       "<table border=\"1\" class=\"dataframe\">\n",
       "  <thead>\n",
       "    <tr style=\"text-align: right;\">\n",
       "      <th></th>\n",
       "      <th>Data</th>\n",
       "      <th>Taxa_Selic</th>\n",
       "    </tr>\n",
       "  </thead>\n",
       "  <tbody>\n",
       "    <tr>\n",
       "      <th>0</th>\n",
       "      <td>26/06/1996</td>\n",
       "      <td>1,90</td>\n",
       "    </tr>\n",
       "    <tr>\n",
       "      <th>1</th>\n",
       "      <td>30/07/1996</td>\n",
       "      <td>1,90</td>\n",
       "    </tr>\n",
       "    <tr>\n",
       "      <th>2</th>\n",
       "      <td>21/08/1996</td>\n",
       "      <td>1,88</td>\n",
       "    </tr>\n",
       "    <tr>\n",
       "      <th>3</th>\n",
       "      <td>23/09/1996</td>\n",
       "      <td>1,82</td>\n",
       "    </tr>\n",
       "    <tr>\n",
       "      <th>4</th>\n",
       "      <td>23/10/1996</td>\n",
       "      <td>1,78</td>\n",
       "    </tr>\n",
       "    <tr>\n",
       "      <th>...</th>\n",
       "      <td>...</td>\n",
       "      <td>...</td>\n",
       "    </tr>\n",
       "    <tr>\n",
       "      <th>269</th>\n",
       "      <td>08/05/2024</td>\n",
       "      <td>10,50</td>\n",
       "    </tr>\n",
       "    <tr>\n",
       "      <th>270</th>\n",
       "      <td>19/06/2024</td>\n",
       "      <td>10,50</td>\n",
       "    </tr>\n",
       "    <tr>\n",
       "      <th>271</th>\n",
       "      <td>31/07/2024</td>\n",
       "      <td>10,50</td>\n",
       "    </tr>\n",
       "    <tr>\n",
       "      <th>272</th>\n",
       "      <td>18/09/2024</td>\n",
       "      <td>10,75</td>\n",
       "    </tr>\n",
       "    <tr>\n",
       "      <th>273</th>\n",
       "      <td>06/11/2024</td>\n",
       "      <td>11,25</td>\n",
       "    </tr>\n",
       "  </tbody>\n",
       "</table>\n",
       "<p>274 rows × 2 columns</p>\n",
       "</div>"
      ],
      "text/plain": [
       "           Data Taxa_Selic\n",
       "0    26/06/1996       1,90\n",
       "1    30/07/1996       1,90\n",
       "2    21/08/1996       1,88\n",
       "3    23/09/1996       1,82\n",
       "4    23/10/1996       1,78\n",
       "..          ...        ...\n",
       "269  08/05/2024      10,50\n",
       "270  19/06/2024      10,50\n",
       "271  31/07/2024      10,50\n",
       "272  18/09/2024      10,75\n",
       "273  06/11/2024      11,25\n",
       "\n",
       "[274 rows x 2 columns]"
      ]
     },
     "execution_count": 5,
     "metadata": {},
     "output_type": "execute_result"
    }
   ],
   "source": [
    "dados_selic = dados.iloc[::-1].reset_index(drop=True)\n",
    "\n",
    "# Exibindo o DataFrame invertido\n",
    "dados_selic"
   ]
  },
  {
   "cell_type": "code",
   "execution_count": 6,
   "metadata": {},
   "outputs": [],
   "source": [
    "dados_selic = dados_selic[48:]"
   ]
  },
  {
   "cell_type": "code",
   "execution_count": 7,
   "metadata": {},
   "outputs": [
    {
     "data": {
      "text/html": [
       "<div>\n",
       "<style scoped>\n",
       "    .dataframe tbody tr th:only-of-type {\n",
       "        vertical-align: middle;\n",
       "    }\n",
       "\n",
       "    .dataframe tbody tr th {\n",
       "        vertical-align: top;\n",
       "    }\n",
       "\n",
       "    .dataframe thead th {\n",
       "        text-align: right;\n",
       "    }\n",
       "</style>\n",
       "<table border=\"1\" class=\"dataframe\">\n",
       "  <thead>\n",
       "    <tr style=\"text-align: right;\">\n",
       "      <th></th>\n",
       "      <th>Data</th>\n",
       "      <th>Taxa_Selic</th>\n",
       "    </tr>\n",
       "  </thead>\n",
       "  <tbody>\n",
       "    <tr>\n",
       "      <th>48</th>\n",
       "      <td>19/01/2000</td>\n",
       "      <td>19,00</td>\n",
       "    </tr>\n",
       "    <tr>\n",
       "      <th>49</th>\n",
       "      <td>16/02/2000</td>\n",
       "      <td>19,00</td>\n",
       "    </tr>\n",
       "    <tr>\n",
       "      <th>50</th>\n",
       "      <td>22/03/2000</td>\n",
       "      <td>19,00</td>\n",
       "    </tr>\n",
       "    <tr>\n",
       "      <th>51</th>\n",
       "      <td>28/03/2000</td>\n",
       "      <td>18,50</td>\n",
       "    </tr>\n",
       "    <tr>\n",
       "      <th>52</th>\n",
       "      <td>19/04/2000</td>\n",
       "      <td>18,50</td>\n",
       "    </tr>\n",
       "    <tr>\n",
       "      <th>...</th>\n",
       "      <td>...</td>\n",
       "      <td>...</td>\n",
       "    </tr>\n",
       "    <tr>\n",
       "      <th>269</th>\n",
       "      <td>08/05/2024</td>\n",
       "      <td>10,50</td>\n",
       "    </tr>\n",
       "    <tr>\n",
       "      <th>270</th>\n",
       "      <td>19/06/2024</td>\n",
       "      <td>10,50</td>\n",
       "    </tr>\n",
       "    <tr>\n",
       "      <th>271</th>\n",
       "      <td>31/07/2024</td>\n",
       "      <td>10,50</td>\n",
       "    </tr>\n",
       "    <tr>\n",
       "      <th>272</th>\n",
       "      <td>18/09/2024</td>\n",
       "      <td>10,75</td>\n",
       "    </tr>\n",
       "    <tr>\n",
       "      <th>273</th>\n",
       "      <td>06/11/2024</td>\n",
       "      <td>11,25</td>\n",
       "    </tr>\n",
       "  </tbody>\n",
       "</table>\n",
       "<p>226 rows × 2 columns</p>\n",
       "</div>"
      ],
      "text/plain": [
       "           Data Taxa_Selic\n",
       "48   19/01/2000      19,00\n",
       "49   16/02/2000      19,00\n",
       "50   22/03/2000      19,00\n",
       "51   28/03/2000      18,50\n",
       "52   19/04/2000      18,50\n",
       "..          ...        ...\n",
       "269  08/05/2024      10,50\n",
       "270  19/06/2024      10,50\n",
       "271  31/07/2024      10,50\n",
       "272  18/09/2024      10,75\n",
       "273  06/11/2024      11,25\n",
       "\n",
       "[226 rows x 2 columns]"
      ]
     },
     "execution_count": 7,
     "metadata": {},
     "output_type": "execute_result"
    }
   ],
   "source": [
    "dados_selic"
   ]
  },
  {
   "cell_type": "code",
   "execution_count": 169,
   "metadata": {},
   "outputs": [
    {
     "name": "stderr",
     "output_type": "stream",
     "text": [
      "C:\\Users\\alyss\\AppData\\Local\\Temp\\ipykernel_5024\\4018914372.py:4: SettingWithCopyWarning:\n",
      "\n",
      "\n",
      "A value is trying to be set on a copy of a slice from a DataFrame.\n",
      "Try using .loc[row_indexer,col_indexer] = value instead\n",
      "\n",
      "See the caveats in the documentation: https://pandas.pydata.org/pandas-docs/stable/user_guide/indexing.html#returning-a-view-versus-a-copy\n",
      "\n"
     ]
    },
    {
     "data": {
      "application/vnd.plotly.v1+json": {
       "config": {
        "plotlyServerURL": "https://plot.ly"
       },
       "data": [
        {
         "hovertemplate": "Data=%{x}<br>Taxa Selic (%)=%{y}<extra></extra>",
         "legendgroup": "",
         "line": {
          "color": "rgb(237, 96, 68)",
          "dash": "solid"
         },
         "marker": {
          "symbol": "circle"
         },
         "mode": "markers+lines",
         "name": "",
         "orientation": "v",
         "showlegend": false,
         "type": "scatter",
         "x": [
          "2000-01-19T00:00:00",
          "2000-02-16T00:00:00",
          "2000-03-22T00:00:00",
          "2000-03-28T00:00:00",
          "2000-04-19T00:00:00",
          "2000-05-24T00:00:00",
          "2000-06-20T00:00:00",
          "2000-07-07T00:00:00",
          "2000-07-19T00:00:00",
          "2000-08-23T00:00:00",
          "2000-09-20T00:00:00",
          "2000-10-18T00:00:00",
          "2000-11-22T00:00:00",
          "2000-12-20T00:00:00",
          "2001-01-17T00:00:00",
          "2001-02-14T00:00:00",
          "2001-03-21T00:00:00",
          "2001-04-18T00:00:00",
          "2001-05-23T00:00:00",
          "2001-06-20T00:00:00",
          "2001-07-18T00:00:00",
          "2001-08-22T00:00:00",
          "2001-09-19T00:00:00",
          "2001-10-17T00:00:00",
          "2001-11-21T00:00:00",
          "2001-12-19T00:00:00",
          "2002-01-23T00:00:00",
          "2002-02-20T00:00:00",
          "2002-03-20T00:00:00",
          "2002-04-17T00:00:00",
          "2002-05-22T00:00:00",
          "2002-06-19T00:00:00",
          "2002-07-17T00:00:00",
          "2002-08-21T00:00:00",
          "2002-09-18T00:00:00",
          "2002-10-14T00:00:00",
          "2002-10-22T00:00:00",
          "2002-11-20T00:00:00",
          "2002-12-18T00:00:00",
          "2003-01-22T00:00:00",
          "2003-02-19T00:00:00",
          "2003-03-19T00:00:00",
          "2003-04-23T00:00:00",
          "2003-05-21T00:00:00",
          "2003-06-18T00:00:00",
          "2003-07-23T00:00:00",
          "2003-08-20T00:00:00",
          "2003-09-17T00:00:00",
          "2003-10-22T00:00:00",
          "2003-11-19T00:00:00",
          "2003-12-17T00:00:00",
          "2004-01-21T00:00:00",
          "2004-02-18T00:00:00",
          "2004-03-17T00:00:00",
          "2004-04-14T00:00:00",
          "2004-05-19T00:00:00",
          "2004-06-16T00:00:00",
          "2004-07-21T00:00:00",
          "2004-08-18T00:00:00",
          "2004-09-15T00:00:00",
          "2004-10-19T00:00:00",
          "2004-11-17T00:00:00",
          "2004-12-15T00:00:00",
          "2005-01-19T00:00:00",
          "2005-02-16T00:00:00",
          "2005-03-16T00:00:00",
          "2005-04-20T00:00:00",
          "2005-05-18T00:00:00",
          "2005-06-15T00:00:00",
          "2005-07-20T00:00:00",
          "2005-08-17T00:00:00",
          "2005-09-14T00:00:00",
          "2005-10-19T00:00:00",
          "2005-11-23T00:00:00",
          "2005-12-14T00:00:00",
          "2006-01-18T00:00:00",
          "2006-03-08T00:00:00",
          "2006-04-19T00:00:00",
          "2006-05-31T00:00:00",
          "2006-07-19T00:00:00",
          "2006-08-30T00:00:00",
          "2006-10-17T00:00:00",
          "2006-11-29T00:00:00",
          "2007-01-24T00:00:00",
          "2007-03-07T00:00:00",
          "2007-04-18T00:00:00",
          "2007-06-06T00:00:00",
          "2007-07-18T00:00:00",
          "2007-09-05T00:00:00",
          "2007-10-17T00:00:00",
          "2007-12-05T00:00:00",
          "2008-01-23T00:00:00",
          "2008-03-05T00:00:00",
          "2008-04-16T00:00:00",
          "2008-06-04T00:00:00",
          "2008-07-23T00:00:00",
          "2008-09-10T00:00:00",
          "2008-10-29T00:00:00",
          "2008-12-10T00:00:00",
          "2009-01-21T00:00:00",
          "2009-03-11T00:00:00",
          "2009-04-29T00:00:00",
          "2009-06-10T00:00:00",
          "2009-07-22T00:00:00",
          "2009-09-02T00:00:00",
          "2009-10-21T00:00:00",
          "2009-12-09T00:00:00",
          "2010-01-27T00:00:00",
          "2010-03-17T00:00:00",
          "2010-04-28T00:00:00",
          "2010-06-09T00:00:00",
          "2010-07-21T00:00:00",
          "2010-09-01T00:00:00",
          "2010-10-20T00:00:00",
          "2010-12-08T00:00:00",
          "2011-01-19T00:00:00",
          "2011-03-02T00:00:00",
          "2011-04-20T00:00:00",
          "2011-06-08T00:00:00",
          "2011-07-20T00:00:00",
          "2011-08-31T00:00:00",
          "2011-10-19T00:00:00",
          "2011-11-30T00:00:00",
          "2012-01-18T00:00:00",
          "2012-03-07T00:00:00",
          "2012-04-18T00:00:00",
          "2012-05-30T00:00:00",
          "2012-07-11T00:00:00",
          "2012-08-29T00:00:00",
          "2012-10-10T00:00:00",
          "2012-11-28T00:00:00",
          "2013-01-16T00:00:00",
          "2013-03-06T00:00:00",
          "2013-04-17T00:00:00",
          "2013-05-29T00:00:00",
          "2013-07-10T00:00:00",
          "2013-08-28T00:00:00",
          "2013-10-09T00:00:00",
          "2013-11-27T00:00:00",
          "2014-01-15T00:00:00",
          "2014-02-26T00:00:00",
          "2014-04-02T00:00:00",
          "2014-05-28T00:00:00",
          "2014-07-16T00:00:00",
          "2014-09-03T00:00:00",
          "2014-10-29T00:00:00",
          "2014-12-03T00:00:00",
          "2015-01-21T00:00:00",
          "2015-03-04T00:00:00",
          "2015-04-29T00:00:00",
          "2015-06-03T00:00:00",
          "2015-07-29T00:00:00",
          "2015-09-02T00:00:00",
          "2015-10-21T00:00:00",
          "2015-11-25T00:00:00",
          "2016-01-20T00:00:00",
          "2016-03-02T00:00:00",
          "2016-04-27T00:00:00",
          "2016-06-08T00:00:00",
          "2016-07-20T00:00:00",
          "2016-08-31T00:00:00",
          "2016-10-19T00:00:00",
          "2016-11-30T00:00:00",
          "2017-01-11T00:00:00",
          "2017-02-22T00:00:00",
          "2017-04-12T00:00:00",
          "2017-05-31T00:00:00",
          "2017-07-26T00:00:00",
          "2017-09-06T00:00:00",
          "2017-10-25T00:00:00",
          "2017-12-06T00:00:00",
          "2018-02-07T00:00:00",
          "2018-03-21T00:00:00",
          "2018-05-16T00:00:00",
          "2018-06-20T00:00:00",
          "2018-08-01T00:00:00",
          "2018-09-19T00:00:00",
          "2018-10-31T00:00:00",
          "2018-12-12T00:00:00",
          "2019-02-06T00:00:00",
          "2019-03-20T00:00:00",
          "2019-05-08T00:00:00",
          "2019-06-19T00:00:00",
          "2019-07-31T00:00:00",
          "2019-09-18T00:00:00",
          "2019-10-30T00:00:00",
          "2019-12-11T00:00:00",
          "2020-02-05T00:00:00",
          "2020-03-18T00:00:00",
          "2020-05-06T00:00:00",
          "2020-06-17T00:00:00",
          "2020-08-05T00:00:00",
          "2020-09-16T00:00:00",
          "2020-10-28T00:00:00",
          "2020-12-09T00:00:00",
          "2021-01-20T00:00:00",
          "2021-03-17T00:00:00",
          "2021-05-05T00:00:00",
          "2021-06-16T00:00:00",
          "2021-08-04T00:00:00",
          "2021-09-22T00:00:00",
          "2021-10-27T00:00:00",
          "2021-12-08T00:00:00",
          "2022-02-02T00:00:00",
          "2022-03-16T00:00:00",
          "2022-05-04T00:00:00",
          "2022-06-15T00:00:00",
          "2022-08-03T00:00:00",
          "2022-09-21T00:00:00",
          "2022-10-26T00:00:00",
          "2022-12-07T00:00:00",
          "2023-02-01T00:00:00",
          "2023-03-22T00:00:00",
          "2023-05-03T00:00:00",
          "2023-06-21T00:00:00",
          "2023-08-02T00:00:00",
          "2023-09-20T00:00:00",
          "2023-11-01T00:00:00",
          "2023-12-13T00:00:00",
          "2024-01-31T00:00:00",
          "2024-03-20T00:00:00",
          "2024-05-08T00:00:00",
          "2024-06-19T00:00:00",
          "2024-07-31T00:00:00",
          "2024-09-18T00:00:00",
          "2024-11-06T00:00:00"
         ],
         "xaxis": "x",
         "y": [
          19,
          19,
          19,
          18.5,
          18.5,
          18.5,
          17.5,
          17,
          16.5,
          16.5,
          16.5,
          16.5,
          16.5,
          15.75,
          15.25,
          15.25,
          15.75,
          16.25,
          16.75,
          18.25,
          19,
          19,
          19,
          19,
          19,
          19,
          19,
          18.75,
          18.5,
          18.5,
          18.5,
          18.5,
          18,
          18,
          18,
          21,
          21,
          22,
          25,
          25.5,
          26.5,
          26.5,
          26.5,
          26.5,
          26,
          24.5,
          22,
          20,
          19,
          17.5,
          16.5,
          16.5,
          16.5,
          16.25,
          16,
          16,
          16,
          16,
          16,
          16.25,
          16.75,
          17.25,
          17.75,
          18.25,
          18.75,
          19.25,
          19.5,
          19.75,
          19.75,
          19.75,
          19.75,
          19.5,
          19,
          18.5,
          18,
          17.25,
          16.5,
          15.75,
          15.25,
          14.75,
          14.25,
          13.75,
          13.25,
          13,
          12.75,
          12.5,
          12,
          11.5,
          11.25,
          11.25,
          11.25,
          11.25,
          11.25,
          11.75,
          12.25,
          13,
          13.75,
          13.75,
          13.75,
          12.75,
          11.25,
          10.25,
          9.25,
          8.75,
          8.75,
          8.75,
          8.75,
          8.75,
          8.75,
          9.5,
          10.25,
          10.75,
          10.75,
          10.75,
          10.75,
          11.25,
          11.75,
          12,
          12.25,
          12.5,
          12,
          11.5,
          11,
          10.5,
          9.75,
          9,
          8.5,
          8,
          7.5,
          7.25,
          7.25,
          7.25,
          7.25,
          7.5,
          8,
          8.5,
          9,
          9.5,
          10,
          10.5,
          10.75,
          11,
          11,
          11,
          11,
          11.25,
          11.75,
          12.25,
          12.75,
          13.25,
          13.75,
          14.25,
          14.25,
          14.25,
          14.25,
          14.25,
          14.25,
          14.25,
          14.25,
          14.25,
          14.25,
          14,
          13.75,
          13,
          12.25,
          11.25,
          10.25,
          9.25,
          8.25,
          7.5,
          7,
          6.75,
          6.5,
          6.5,
          6.5,
          6.5,
          6.5,
          6.5,
          6.5,
          6.5,
          6.5,
          6.5,
          6.5,
          6,
          5.5,
          5,
          4.5,
          4.25,
          3.75,
          3,
          2.25,
          2,
          2,
          2,
          2,
          2,
          2.75,
          3.5,
          4.25,
          5.25,
          6.25,
          7.75,
          9.25,
          10.75,
          11.75,
          12.75,
          13.25,
          13.75,
          13.75,
          13.75,
          13.75,
          13.75,
          13.75,
          13.75,
          13.75,
          13.25,
          12.75,
          12.25,
          11.75,
          11.25,
          10.75,
          10.5,
          10.5,
          10.5,
          10.75,
          11.25
         ],
         "yaxis": "y"
        }
       ],
       "layout": {
        "legend": {
         "tracegroupgap": 0
        },
        "template": {
         "data": {
          "bar": [
           {
            "error_x": {
             "color": "#2a3f5f"
            },
            "error_y": {
             "color": "#2a3f5f"
            },
            "marker": {
             "line": {
              "color": "#E5ECF6",
              "width": 0.5
             },
             "pattern": {
              "fillmode": "overlay",
              "size": 10,
              "solidity": 0.2
             }
            },
            "type": "bar"
           }
          ],
          "barpolar": [
           {
            "marker": {
             "line": {
              "color": "#E5ECF6",
              "width": 0.5
             },
             "pattern": {
              "fillmode": "overlay",
              "size": 10,
              "solidity": 0.2
             }
            },
            "type": "barpolar"
           }
          ],
          "carpet": [
           {
            "aaxis": {
             "endlinecolor": "#2a3f5f",
             "gridcolor": "white",
             "linecolor": "white",
             "minorgridcolor": "white",
             "startlinecolor": "#2a3f5f"
            },
            "baxis": {
             "endlinecolor": "#2a3f5f",
             "gridcolor": "white",
             "linecolor": "white",
             "minorgridcolor": "white",
             "startlinecolor": "#2a3f5f"
            },
            "type": "carpet"
           }
          ],
          "choropleth": [
           {
            "colorbar": {
             "outlinewidth": 0,
             "ticks": ""
            },
            "type": "choropleth"
           }
          ],
          "contour": [
           {
            "colorbar": {
             "outlinewidth": 0,
             "ticks": ""
            },
            "colorscale": [
             [
              0,
              "#0d0887"
             ],
             [
              0.1111111111111111,
              "#46039f"
             ],
             [
              0.2222222222222222,
              "#7201a8"
             ],
             [
              0.3333333333333333,
              "#9c179e"
             ],
             [
              0.4444444444444444,
              "#bd3786"
             ],
             [
              0.5555555555555556,
              "#d8576b"
             ],
             [
              0.6666666666666666,
              "#ed7953"
             ],
             [
              0.7777777777777778,
              "#fb9f3a"
             ],
             [
              0.8888888888888888,
              "#fdca26"
             ],
             [
              1,
              "#f0f921"
             ]
            ],
            "type": "contour"
           }
          ],
          "contourcarpet": [
           {
            "colorbar": {
             "outlinewidth": 0,
             "ticks": ""
            },
            "type": "contourcarpet"
           }
          ],
          "heatmap": [
           {
            "colorbar": {
             "outlinewidth": 0,
             "ticks": ""
            },
            "colorscale": [
             [
              0,
              "#0d0887"
             ],
             [
              0.1111111111111111,
              "#46039f"
             ],
             [
              0.2222222222222222,
              "#7201a8"
             ],
             [
              0.3333333333333333,
              "#9c179e"
             ],
             [
              0.4444444444444444,
              "#bd3786"
             ],
             [
              0.5555555555555556,
              "#d8576b"
             ],
             [
              0.6666666666666666,
              "#ed7953"
             ],
             [
              0.7777777777777778,
              "#fb9f3a"
             ],
             [
              0.8888888888888888,
              "#fdca26"
             ],
             [
              1,
              "#f0f921"
             ]
            ],
            "type": "heatmap"
           }
          ],
          "heatmapgl": [
           {
            "colorbar": {
             "outlinewidth": 0,
             "ticks": ""
            },
            "colorscale": [
             [
              0,
              "#0d0887"
             ],
             [
              0.1111111111111111,
              "#46039f"
             ],
             [
              0.2222222222222222,
              "#7201a8"
             ],
             [
              0.3333333333333333,
              "#9c179e"
             ],
             [
              0.4444444444444444,
              "#bd3786"
             ],
             [
              0.5555555555555556,
              "#d8576b"
             ],
             [
              0.6666666666666666,
              "#ed7953"
             ],
             [
              0.7777777777777778,
              "#fb9f3a"
             ],
             [
              0.8888888888888888,
              "#fdca26"
             ],
             [
              1,
              "#f0f921"
             ]
            ],
            "type": "heatmapgl"
           }
          ],
          "histogram": [
           {
            "marker": {
             "pattern": {
              "fillmode": "overlay",
              "size": 10,
              "solidity": 0.2
             }
            },
            "type": "histogram"
           }
          ],
          "histogram2d": [
           {
            "colorbar": {
             "outlinewidth": 0,
             "ticks": ""
            },
            "colorscale": [
             [
              0,
              "#0d0887"
             ],
             [
              0.1111111111111111,
              "#46039f"
             ],
             [
              0.2222222222222222,
              "#7201a8"
             ],
             [
              0.3333333333333333,
              "#9c179e"
             ],
             [
              0.4444444444444444,
              "#bd3786"
             ],
             [
              0.5555555555555556,
              "#d8576b"
             ],
             [
              0.6666666666666666,
              "#ed7953"
             ],
             [
              0.7777777777777778,
              "#fb9f3a"
             ],
             [
              0.8888888888888888,
              "#fdca26"
             ],
             [
              1,
              "#f0f921"
             ]
            ],
            "type": "histogram2d"
           }
          ],
          "histogram2dcontour": [
           {
            "colorbar": {
             "outlinewidth": 0,
             "ticks": ""
            },
            "colorscale": [
             [
              0,
              "#0d0887"
             ],
             [
              0.1111111111111111,
              "#46039f"
             ],
             [
              0.2222222222222222,
              "#7201a8"
             ],
             [
              0.3333333333333333,
              "#9c179e"
             ],
             [
              0.4444444444444444,
              "#bd3786"
             ],
             [
              0.5555555555555556,
              "#d8576b"
             ],
             [
              0.6666666666666666,
              "#ed7953"
             ],
             [
              0.7777777777777778,
              "#fb9f3a"
             ],
             [
              0.8888888888888888,
              "#fdca26"
             ],
             [
              1,
              "#f0f921"
             ]
            ],
            "type": "histogram2dcontour"
           }
          ],
          "mesh3d": [
           {
            "colorbar": {
             "outlinewidth": 0,
             "ticks": ""
            },
            "type": "mesh3d"
           }
          ],
          "parcoords": [
           {
            "line": {
             "colorbar": {
              "outlinewidth": 0,
              "ticks": ""
             }
            },
            "type": "parcoords"
           }
          ],
          "pie": [
           {
            "automargin": true,
            "type": "pie"
           }
          ],
          "scatter": [
           {
            "fillpattern": {
             "fillmode": "overlay",
             "size": 10,
             "solidity": 0.2
            },
            "type": "scatter"
           }
          ],
          "scatter3d": [
           {
            "line": {
             "colorbar": {
              "outlinewidth": 0,
              "ticks": ""
             }
            },
            "marker": {
             "colorbar": {
              "outlinewidth": 0,
              "ticks": ""
             }
            },
            "type": "scatter3d"
           }
          ],
          "scattercarpet": [
           {
            "marker": {
             "colorbar": {
              "outlinewidth": 0,
              "ticks": ""
             }
            },
            "type": "scattercarpet"
           }
          ],
          "scattergeo": [
           {
            "marker": {
             "colorbar": {
              "outlinewidth": 0,
              "ticks": ""
             }
            },
            "type": "scattergeo"
           }
          ],
          "scattergl": [
           {
            "marker": {
             "colorbar": {
              "outlinewidth": 0,
              "ticks": ""
             }
            },
            "type": "scattergl"
           }
          ],
          "scattermapbox": [
           {
            "marker": {
             "colorbar": {
              "outlinewidth": 0,
              "ticks": ""
             }
            },
            "type": "scattermapbox"
           }
          ],
          "scatterpolar": [
           {
            "marker": {
             "colorbar": {
              "outlinewidth": 0,
              "ticks": ""
             }
            },
            "type": "scatterpolar"
           }
          ],
          "scatterpolargl": [
           {
            "marker": {
             "colorbar": {
              "outlinewidth": 0,
              "ticks": ""
             }
            },
            "type": "scatterpolargl"
           }
          ],
          "scatterternary": [
           {
            "marker": {
             "colorbar": {
              "outlinewidth": 0,
              "ticks": ""
             }
            },
            "type": "scatterternary"
           }
          ],
          "surface": [
           {
            "colorbar": {
             "outlinewidth": 0,
             "ticks": ""
            },
            "colorscale": [
             [
              0,
              "#0d0887"
             ],
             [
              0.1111111111111111,
              "#46039f"
             ],
             [
              0.2222222222222222,
              "#7201a8"
             ],
             [
              0.3333333333333333,
              "#9c179e"
             ],
             [
              0.4444444444444444,
              "#bd3786"
             ],
             [
              0.5555555555555556,
              "#d8576b"
             ],
             [
              0.6666666666666666,
              "#ed7953"
             ],
             [
              0.7777777777777778,
              "#fb9f3a"
             ],
             [
              0.8888888888888888,
              "#fdca26"
             ],
             [
              1,
              "#f0f921"
             ]
            ],
            "type": "surface"
           }
          ],
          "table": [
           {
            "cells": {
             "fill": {
              "color": "#EBF0F8"
             },
             "line": {
              "color": "white"
             }
            },
            "header": {
             "fill": {
              "color": "#C8D4E3"
             },
             "line": {
              "color": "white"
             }
            },
            "type": "table"
           }
          ]
         },
         "layout": {
          "annotationdefaults": {
           "arrowcolor": "#2a3f5f",
           "arrowhead": 0,
           "arrowwidth": 1
          },
          "autotypenumbers": "strict",
          "coloraxis": {
           "colorbar": {
            "outlinewidth": 0,
            "ticks": ""
           }
          },
          "colorscale": {
           "diverging": [
            [
             0,
             "#8e0152"
            ],
            [
             0.1,
             "#c51b7d"
            ],
            [
             0.2,
             "#de77ae"
            ],
            [
             0.3,
             "#f1b6da"
            ],
            [
             0.4,
             "#fde0ef"
            ],
            [
             0.5,
             "#f7f7f7"
            ],
            [
             0.6,
             "#e6f5d0"
            ],
            [
             0.7,
             "#b8e186"
            ],
            [
             0.8,
             "#7fbc41"
            ],
            [
             0.9,
             "#4d9221"
            ],
            [
             1,
             "#276419"
            ]
           ],
           "sequential": [
            [
             0,
             "#0d0887"
            ],
            [
             0.1111111111111111,
             "#46039f"
            ],
            [
             0.2222222222222222,
             "#7201a8"
            ],
            [
             0.3333333333333333,
             "#9c179e"
            ],
            [
             0.4444444444444444,
             "#bd3786"
            ],
            [
             0.5555555555555556,
             "#d8576b"
            ],
            [
             0.6666666666666666,
             "#ed7953"
            ],
            [
             0.7777777777777778,
             "#fb9f3a"
            ],
            [
             0.8888888888888888,
             "#fdca26"
            ],
            [
             1,
             "#f0f921"
            ]
           ],
           "sequentialminus": [
            [
             0,
             "#0d0887"
            ],
            [
             0.1111111111111111,
             "#46039f"
            ],
            [
             0.2222222222222222,
             "#7201a8"
            ],
            [
             0.3333333333333333,
             "#9c179e"
            ],
            [
             0.4444444444444444,
             "#bd3786"
            ],
            [
             0.5555555555555556,
             "#d8576b"
            ],
            [
             0.6666666666666666,
             "#ed7953"
            ],
            [
             0.7777777777777778,
             "#fb9f3a"
            ],
            [
             0.8888888888888888,
             "#fdca26"
            ],
            [
             1,
             "#f0f921"
            ]
           ]
          },
          "colorway": [
           "#636efa",
           "#EF553B",
           "#00cc96",
           "#ab63fa",
           "#FFA15A",
           "#19d3f3",
           "#FF6692",
           "#B6E880",
           "#FF97FF",
           "#FECB52"
          ],
          "font": {
           "color": "#2a3f5f"
          },
          "geo": {
           "bgcolor": "white",
           "lakecolor": "white",
           "landcolor": "#E5ECF6",
           "showlakes": true,
           "showland": true,
           "subunitcolor": "white"
          },
          "hoverlabel": {
           "align": "left"
          },
          "hovermode": "closest",
          "mapbox": {
           "style": "light"
          },
          "paper_bgcolor": "white",
          "plot_bgcolor": "#E5ECF6",
          "polar": {
           "angularaxis": {
            "gridcolor": "white",
            "linecolor": "white",
            "ticks": ""
           },
           "bgcolor": "#E5ECF6",
           "radialaxis": {
            "gridcolor": "white",
            "linecolor": "white",
            "ticks": ""
           }
          },
          "scene": {
           "xaxis": {
            "backgroundcolor": "#E5ECF6",
            "gridcolor": "white",
            "gridwidth": 2,
            "linecolor": "white",
            "showbackground": true,
            "ticks": "",
            "zerolinecolor": "white"
           },
           "yaxis": {
            "backgroundcolor": "#E5ECF6",
            "gridcolor": "white",
            "gridwidth": 2,
            "linecolor": "white",
            "showbackground": true,
            "ticks": "",
            "zerolinecolor": "white"
           },
           "zaxis": {
            "backgroundcolor": "#E5ECF6",
            "gridcolor": "white",
            "gridwidth": 2,
            "linecolor": "white",
            "showbackground": true,
            "ticks": "",
            "zerolinecolor": "white"
           }
          },
          "shapedefaults": {
           "line": {
            "color": "#2a3f5f"
           }
          },
          "ternary": {
           "aaxis": {
            "gridcolor": "white",
            "linecolor": "white",
            "ticks": ""
           },
           "baxis": {
            "gridcolor": "white",
            "linecolor": "white",
            "ticks": ""
           },
           "bgcolor": "#E5ECF6",
           "caxis": {
            "gridcolor": "white",
            "linecolor": "white",
            "ticks": ""
           }
          },
          "title": {
           "x": 0.05
          },
          "xaxis": {
           "automargin": true,
           "gridcolor": "white",
           "linecolor": "white",
           "ticks": "",
           "title": {
            "standoff": 15
           },
           "zerolinecolor": "white",
           "zerolinewidth": 2
          },
          "yaxis": {
           "automargin": true,
           "gridcolor": "white",
           "linecolor": "white",
           "ticks": "",
           "title": {
            "standoff": 15
           },
           "zerolinecolor": "white",
           "zerolinewidth": 2
          }
         }
        },
        "title": {
         "font": {
          "size": 14
         },
         "text": "Variação da Taxa Selic (a partir de 2000)"
        },
        "xaxis": {
         "anchor": "y",
         "color": "gray",
         "domain": [
          0,
          1
         ],
         "showgrid": true,
         "tickformat": "%Y",
         "title": {
          "text": "Data"
         }
        },
        "yaxis": {
         "anchor": "x",
         "color": "gray",
         "domain": [
          0,
          1
         ],
         "showgrid": true,
         "title": {
          "text": "Taxa Selic (%)"
         }
        }
       }
      }
     },
     "metadata": {},
     "output_type": "display_data"
    }
   ],
   "source": [
    "import plotly.express as px\n",
    "\n",
    "# Converter a coluna 'Data' para datetime\n",
    "dados_selic['Data'] = pd.to_datetime(dados_selic['Data'], format='%d/%m/%Y')\n",
    "\n",
    "# Criando o gráfico com Plotly\n",
    "fig = px.line(\n",
    "    dados_selic,\n",
    "    x='Data',\n",
    "    y='Taxa_Selic',\n",
    "    title=\"Taxa Selic ao Longo do Tempo (a partir do índice 200)\",\n",
    "    labels={'Data': 'Data', 'Taxa_Selic': 'Taxa Selic (%)'},\n",
    "    markers=True\n",
    ")\n",
    "\n",
    "# Personalizando o layout\n",
    "fig.update_traces(line=dict(color='rgb(237, 96, 68)'))  # Aplica a cor personalizada na linha\n",
    "\n",
    "fig.update_layout(\n",
    "    xaxis=dict(tickformat=\"%Y\", color = \"gray\"),  # Rotacionando as labels do eixo X\n",
    "    yaxis=dict(title=\"Taxa Selic (%)\", color = \"gray\"),\n",
    "    title=dict(text=\"Variação da Taxa Selic (a partir de 2000)\", font=dict(size=14)),\n",
    "    xaxis_showgrid=True,\n",
    "    yaxis_showgrid=True,\n",
    ")\n",
    "\n",
    "# Exibindo o gráfico\n",
    "fig.show()"
   ]
  },
  {
   "cell_type": "code",
   "execution_count": 9,
   "metadata": {},
   "outputs": [
    {
     "data": {
      "text/plain": [
       "Index(['Data', 'Taxa_Selic'], dtype='object')"
      ]
     },
     "execution_count": 9,
     "metadata": {},
     "output_type": "execute_result"
    }
   ],
   "source": [
    "dados.columns"
   ]
  },
  {
   "cell_type": "code",
   "execution_count": 10,
   "metadata": {},
   "outputs": [
    {
     "data": {
      "text/plain": [
       "Data          0\n",
       "Taxa_Selic    0\n",
       "dtype: int64"
      ]
     },
     "execution_count": 10,
     "metadata": {},
     "output_type": "execute_result"
    }
   ],
   "source": [
    "dados.isna().sum()"
   ]
  },
  {
   "cell_type": "markdown",
   "metadata": {},
   "source": [
    " - Alterando o tipo da taxa selic"
   ]
  },
  {
   "cell_type": "code",
   "execution_count": 11,
   "metadata": {},
   "outputs": [
    {
     "name": "stderr",
     "output_type": "stream",
     "text": [
      "C:\\Users\\alyss\\AppData\\Local\\Temp\\ipykernel_5024\\1838814633.py:1: SettingWithCopyWarning: \n",
      "A value is trying to be set on a copy of a slice from a DataFrame.\n",
      "Try using .loc[row_indexer,col_indexer] = value instead\n",
      "\n",
      "See the caveats in the documentation: https://pandas.pydata.org/pandas-docs/stable/user_guide/indexing.html#returning-a-view-versus-a-copy\n",
      "  dados_selic[\"Taxa_Selic\"] = dados_selic[\"Taxa_Selic\"].replace(\",\", \".\", regex=True)\n"
     ]
    }
   ],
   "source": [
    "dados_selic[\"Taxa_Selic\"] = dados_selic[\"Taxa_Selic\"].replace(\",\", \".\", regex=True)"
   ]
  },
  {
   "cell_type": "code",
   "execution_count": 12,
   "metadata": {},
   "outputs": [
    {
     "name": "stderr",
     "output_type": "stream",
     "text": [
      "C:\\Users\\alyss\\AppData\\Local\\Temp\\ipykernel_5024\\1782901934.py:2: SettingWithCopyWarning: \n",
      "A value is trying to be set on a copy of a slice from a DataFrame.\n",
      "Try using .loc[row_indexer,col_indexer] = value instead\n",
      "\n",
      "See the caveats in the documentation: https://pandas.pydata.org/pandas-docs/stable/user_guide/indexing.html#returning-a-view-versus-a-copy\n",
      "  dados_selic['Taxa_Selic'] = dados_selic['Taxa_Selic'].astype(float)\n"
     ]
    }
   ],
   "source": [
    "# Alterando os tipos das variaveis\n",
    "dados_selic['Taxa_Selic'] = dados_selic['Taxa_Selic'].astype(float)"
   ]
  },
  {
   "cell_type": "code",
   "execution_count": 13,
   "metadata": {},
   "outputs": [
    {
     "name": "stdout",
     "output_type": "stream",
     "text": [
      "<class 'pandas.core.frame.DataFrame'>\n",
      "RangeIndex: 226 entries, 48 to 273\n",
      "Data columns (total 2 columns):\n",
      " #   Column      Non-Null Count  Dtype  \n",
      "---  ------      --------------  -----  \n",
      " 0   Data        226 non-null    object \n",
      " 1   Taxa_Selic  226 non-null    float64\n",
      "dtypes: float64(1), object(1)\n",
      "memory usage: 3.7+ KB\n"
     ]
    }
   ],
   "source": [
    "dados_selic.info()"
   ]
  },
  {
   "cell_type": "code",
   "execution_count": 14,
   "metadata": {},
   "outputs": [],
   "source": [
    "# Fazer plotagens da inflação aqui\n",
    "dados_selic_plot = dados_selic.copy()"
   ]
  },
  {
   "cell_type": "markdown",
   "metadata": {},
   "source": [
    " - Iniciando Pré Processamento dos dados"
   ]
  },
  {
   "cell_type": "code",
   "execution_count": 15,
   "metadata": {},
   "outputs": [],
   "source": [
    "# Transformando a taxa selic em Matriz\n",
    "\n",
    "selic = dados_selic['Taxa_Selic'].values.reshape(-1, 1)"
   ]
  },
  {
   "cell_type": "code",
   "execution_count": 16,
   "metadata": {},
   "outputs": [],
   "source": [
    "# Função para criar o dataset para o modelo LSTM com look_back\n",
    "# O parâmetro look back define o numero de passos no tempo que o modelo usará para fazer cada previsõa\n",
    "# a ideia de \"veja os ultimos 3 dados e preveja o 4\"\n",
    "\n",
    "def func_cria_dataset(data, look_back = 1):\n",
    "   \n",
    "   # Inicializa duas listas vazias, X e Y, que conterão as sequências de entrada e saída\n",
    "   X, Y = [], []\n",
    "   # Itera pelo conjunto de dados menos o valor de look_back, Isso é feiro para evitar índices fora dos limites do array\n",
    "   for i in range(len(data) - look_back):      \n",
    "      # Coleta uma sequência de dados de tamanho look_back começando no índice i\n",
    "      a = data[i:(i + look_back), 0]\n",
    "      # Adiciona a sequência à lista X\n",
    "      X.append(a)\n",
    "      # Adiciona o valor imediatamente após a sequência de look_back à lista Y. Esse valor será o target.\n",
    "      Y.append(data[i + look_back, 0])\n",
    "\n",
    "   # Converte X e Y para arrays numpy para compatibilidade com a maioria das bibliotecas de machine learninog\n",
    "   return np.array(X), np.array(Y)"
   ]
  },
  {
   "cell_type": "code",
   "execution_count": 17,
   "metadata": {},
   "outputs": [],
   "source": [
    "# Dividimos os dados em treinamento e teste (respeitando a ordem cronológica dos dados)\n",
    "\n",
    "indice = int(len(selic) * 0.85)\n",
    "dados_treino, dados_teste = selic[0:indice, :], selic[indice:len(selic), :] "
   ]
  },
  {
   "cell_type": "code",
   "execution_count": 18,
   "metadata": {},
   "outputs": [
    {
     "data": {
      "text/plain": [
       "array([[19. ],\n",
       "       [19. ],\n",
       "       [19. ],\n",
       "       [18.5],\n",
       "       [18.5],\n",
       "       [18.5],\n",
       "       [17.5],\n",
       "       [17. ],\n",
       "       [16.5],\n",
       "       [16.5]])"
      ]
     },
     "execution_count": 18,
     "metadata": {},
     "output_type": "execute_result"
    }
   ],
   "source": [
    "dados_treino[:10]"
   ]
  },
  {
   "cell_type": "code",
   "execution_count": 19,
   "metadata": {},
   "outputs": [
    {
     "data": {
      "text/plain": [
       "(192, 34)"
      ]
     },
     "execution_count": 19,
     "metadata": {},
     "output_type": "execute_result"
    }
   ],
   "source": [
    "len(dados_treino), len(dados_teste)"
   ]
  },
  {
   "cell_type": "code",
   "execution_count": 20,
   "metadata": {},
   "outputs": [],
   "source": [
    "# Normaliza os dados (Requerimento para redes neurais)\n",
    "\n",
    "scaler = MinMaxScaler(feature_range = (0, 1))"
   ]
  },
  {
   "cell_type": "code",
   "execution_count": 21,
   "metadata": {},
   "outputs": [],
   "source": [
    "# Treina e aplica o sclaer emt reino e somente aplica em teste\n",
    "\n",
    "dados_treino_norm = scaler.fit_transform(dados_treino)\n",
    "dados_teste_norm = scaler.transform(dados_teste)"
   ]
  },
  {
   "cell_type": "code",
   "execution_count": 22,
   "metadata": {},
   "outputs": [
    {
     "data": {
      "text/plain": [
       "array([[0.        ],\n",
       "       [0.        ],\n",
       "       [0.        ],\n",
       "       [0.        ],\n",
       "       [0.03061224],\n",
       "       [0.06122449],\n",
       "       [0.09183673],\n",
       "       [0.13265306],\n",
       "       [0.17346939],\n",
       "       [0.23469388],\n",
       "       [0.29591837],\n",
       "       [0.35714286],\n",
       "       [0.39795918],\n",
       "       [0.43877551],\n",
       "       [0.45918367],\n",
       "       [0.47959184],\n",
       "       [0.47959184],\n",
       "       [0.47959184],\n",
       "       [0.47959184],\n",
       "       [0.47959184]])"
      ]
     },
     "execution_count": 22,
     "metadata": {},
     "output_type": "execute_result"
    }
   ],
   "source": [
    "dados_teste_norm[:20]"
   ]
  },
  {
   "cell_type": "code",
   "execution_count": 23,
   "metadata": {},
   "outputs": [],
   "source": [
    "#  Criamos os datasets para o modelo LSTM\n",
    "\n",
    "look_back = 3\n",
    "X_treino, y_treino = func_cria_dataset(dados_treino_norm, look_back)\n",
    "X_teste, y_teste = func_cria_dataset(dados_teste_norm, look_back)"
   ]
  },
  {
   "cell_type": "code",
   "execution_count": 24,
   "metadata": {},
   "outputs": [
    {
     "data": {
      "text/plain": [
       "array([[0.69387755, 0.69387755, 0.69387755],\n",
       "       [0.69387755, 0.69387755, 0.67346939],\n",
       "       [0.69387755, 0.67346939, 0.67346939],\n",
       "       [0.67346939, 0.67346939, 0.67346939],\n",
       "       [0.67346939, 0.67346939, 0.63265306]])"
      ]
     },
     "execution_count": 24,
     "metadata": {},
     "output_type": "execute_result"
    }
   ],
   "source": [
    "X_treino[:5]"
   ]
  },
  {
   "cell_type": "code",
   "execution_count": 25,
   "metadata": {},
   "outputs": [
    {
     "data": {
      "text/plain": [
       "array([0.67346939, 0.67346939, 0.67346939, 0.63265306, 0.6122449 ,\n",
       "       0.59183673, 0.59183673, 0.59183673, 0.59183673])"
      ]
     },
     "execution_count": 25,
     "metadata": {},
     "output_type": "execute_result"
    }
   ],
   "source": [
    "y_treino[:9]"
   ]
  },
  {
   "cell_type": "code",
   "execution_count": 26,
   "metadata": {},
   "outputs": [],
   "source": [
    "#  Reshape dos dados para [samples, time steps, features] - Requerimento para o modelo LSTM\n",
    "\n",
    "X_treino = np.reshape(X_treino, (X_treino.shape[0], X_treino.shape[1], 1))\n",
    "X_teste = np.reshape(X_teste, (X_teste.shape[0], X_teste.shape[1], 1))"
   ]
  },
  {
   "cell_type": "code",
   "execution_count": 27,
   "metadata": {},
   "outputs": [
    {
     "data": {
      "text/plain": [
       "array([[[0.69387755],\n",
       "        [0.69387755],\n",
       "        [0.69387755]],\n",
       "\n",
       "       [[0.69387755],\n",
       "        [0.69387755],\n",
       "        [0.67346939]]])"
      ]
     },
     "execution_count": 27,
     "metadata": {},
     "output_type": "execute_result"
    }
   ],
   "source": [
    "X_treino[:2]"
   ]
  },
  {
   "cell_type": "markdown",
   "metadata": {},
   "source": [
    "## <font color = \"red\"> Construção do Modelo LSTM"
   ]
  },
  {
   "cell_type": "code",
   "execution_count": 49,
   "metadata": {},
   "outputs": [],
   "source": [
    "# 50 neurônios artificais\n",
    "\n",
    "modelo = tf.keras.models.Sequential([tf.keras.layers.LSTM(50, input_shape = (look_back, 1)),\n",
    "                                     tf.keras.layers.Dense(1)])"
   ]
  },
  {
   "cell_type": "code",
   "execution_count": 50,
   "metadata": {},
   "outputs": [],
   "source": [
    "# Compila o modelo\n",
    "# Nesta etapa, aplica o algorítmo de otimização que aplica o back propagation, no caso foi o \"adam\"\n",
    "# função de erro \n",
    "modelo.compile(optimizer = 'adam', loss = 'mean_squared_error')"
   ]
  },
  {
   "cell_type": "code",
   "execution_count": 51,
   "metadata": {},
   "outputs": [
    {
     "name": "stdout",
     "output_type": "stream",
     "text": [
      "Epoch 1/50\n",
      "189/189 [==============================] - 2s 2ms/step - loss: 0.0352\n",
      "Epoch 2/50\n",
      "189/189 [==============================] - 0s 2ms/step - loss: 0.0037\n",
      "Epoch 3/50\n",
      "189/189 [==============================] - 0s 2ms/step - loss: 0.0031\n",
      "Epoch 4/50\n",
      "189/189 [==============================] - 0s 2ms/step - loss: 0.0030\n",
      "Epoch 5/50\n",
      "189/189 [==============================] - 0s 2ms/step - loss: 0.0029\n",
      "Epoch 6/50\n",
      "189/189 [==============================] - 0s 2ms/step - loss: 0.0030\n",
      "Epoch 7/50\n",
      "189/189 [==============================] - 0s 2ms/step - loss: 0.0029\n",
      "Epoch 8/50\n",
      "189/189 [==============================] - 0s 2ms/step - loss: 0.0029\n",
      "Epoch 9/50\n",
      "189/189 [==============================] - 0s 2ms/step - loss: 0.0028\n",
      "Epoch 10/50\n",
      "189/189 [==============================] - 0s 2ms/step - loss: 0.0025\n",
      "Epoch 11/50\n",
      "189/189 [==============================] - 0s 2ms/step - loss: 0.0031\n",
      "Epoch 12/50\n",
      "189/189 [==============================] - 0s 2ms/step - loss: 0.0027\n",
      "Epoch 13/50\n",
      "189/189 [==============================] - 0s 3ms/step - loss: 0.0025\n",
      "Epoch 14/50\n",
      "189/189 [==============================] - 0s 2ms/step - loss: 0.0026\n",
      "Epoch 15/50\n",
      "189/189 [==============================] - 0s 2ms/step - loss: 0.0024\n",
      "Epoch 16/50\n",
      "189/189 [==============================] - 0s 3ms/step - loss: 0.0022\n",
      "Epoch 17/50\n",
      "189/189 [==============================] - 0s 2ms/step - loss: 0.0022\n",
      "Epoch 18/50\n",
      "189/189 [==============================] - 0s 2ms/step - loss: 0.0021\n",
      "Epoch 19/50\n",
      "189/189 [==============================] - 0s 2ms/step - loss: 0.0021\n",
      "Epoch 20/50\n",
      "189/189 [==============================] - 0s 2ms/step - loss: 0.0022\n",
      "Epoch 21/50\n",
      "189/189 [==============================] - 0s 2ms/step - loss: 0.0021\n",
      "Epoch 22/50\n",
      "189/189 [==============================] - 0s 2ms/step - loss: 0.0019\n",
      "Epoch 23/50\n",
      "189/189 [==============================] - 0s 2ms/step - loss: 0.0019\n",
      "Epoch 24/50\n",
      "189/189 [==============================] - 0s 2ms/step - loss: 0.0017\n",
      "Epoch 25/50\n",
      "189/189 [==============================] - 0s 2ms/step - loss: 0.0019\n",
      "Epoch 26/50\n",
      "189/189 [==============================] - 0s 2ms/step - loss: 0.0016\n",
      "Epoch 27/50\n",
      "189/189 [==============================] - 0s 2ms/step - loss: 0.0014\n",
      "Epoch 28/50\n",
      "189/189 [==============================] - 0s 2ms/step - loss: 0.0014\n",
      "Epoch 29/50\n",
      "189/189 [==============================] - 0s 2ms/step - loss: 0.0013\n",
      "Epoch 30/50\n",
      "189/189 [==============================] - 0s 2ms/step - loss: 0.0013\n",
      "Epoch 31/50\n",
      "189/189 [==============================] - 0s 2ms/step - loss: 0.0013\n",
      "Epoch 32/50\n",
      "189/189 [==============================] - 0s 2ms/step - loss: 0.0010\n",
      "Epoch 33/50\n",
      "189/189 [==============================] - 0s 2ms/step - loss: 8.6090e-04\n",
      "Epoch 34/50\n",
      "189/189 [==============================] - 0s 2ms/step - loss: 8.7230e-04\n",
      "Epoch 35/50\n",
      "189/189 [==============================] - 0s 2ms/step - loss: 9.1824e-04\n",
      "Epoch 36/50\n",
      "189/189 [==============================] - 1s 3ms/step - loss: 8.3790e-04\n",
      "Epoch 37/50\n",
      "189/189 [==============================] - 0s 2ms/step - loss: 7.0968e-04\n",
      "Epoch 38/50\n",
      "189/189 [==============================] - 0s 2ms/step - loss: 8.8175e-04\n",
      "Epoch 39/50\n",
      "189/189 [==============================] - 0s 2ms/step - loss: 0.0010\n",
      "Epoch 40/50\n",
      "189/189 [==============================] - 0s 3ms/step - loss: 6.7305e-04\n",
      "Epoch 41/50\n",
      "189/189 [==============================] - 0s 2ms/step - loss: 6.6164e-04\n",
      "Epoch 42/50\n",
      "189/189 [==============================] - 1s 3ms/step - loss: 6.9271e-04\n",
      "Epoch 43/50\n",
      "189/189 [==============================] - 0s 2ms/step - loss: 6.4320e-04\n",
      "Epoch 44/50\n",
      "189/189 [==============================] - 0s 2ms/step - loss: 6.4037e-04\n",
      "Epoch 45/50\n",
      "189/189 [==============================] - 0s 2ms/step - loss: 5.5890e-04\n",
      "Epoch 46/50\n",
      "189/189 [==============================] - 0s 3ms/step - loss: 6.4907e-04\n",
      "Epoch 47/50\n",
      "189/189 [==============================] - 1s 3ms/step - loss: 5.5859e-04\n",
      "Epoch 48/50\n",
      "189/189 [==============================] - 0s 3ms/step - loss: 4.8159e-04\n",
      "Epoch 49/50\n",
      "189/189 [==============================] - 1s 3ms/step - loss: 5.0582e-04\n",
      "Epoch 50/50\n",
      "189/189 [==============================] - 1s 3ms/step - loss: 4.8795e-04\n"
     ]
    },
    {
     "data": {
      "text/plain": [
       "<keras.callbacks.History at 0x21eb41f6fd0>"
      ]
     },
     "execution_count": 51,
     "metadata": {},
     "output_type": "execute_result"
    }
   ],
   "source": [
    "# Treinamento do modelo\n",
    "# Batch_size = alimenta 1 registro por vez\n",
    "# verbose mostra na tela o treinmaneot em andamento\n",
    "\n",
    "modelo.fit(X_treino, y_treino, epochs = 50, batch_size = 1, verbose = 1)"
   ]
  },
  {
   "cell_type": "code",
   "execution_count": 52,
   "metadata": {},
   "outputs": [
    {
     "name": "stdout",
     "output_type": "stream",
     "text": [
      "6/6 [==============================] - 0s 2ms/step\n",
      "1/1 [==============================] - 0s 21ms/step\n"
     ]
    }
   ],
   "source": [
    "# Fazendo previsões com o modelo\n",
    "\n",
    "previsao_treino = modelo.predict(X_treino)\n",
    "previsao_teste = modelo.predict(X_teste)"
   ]
  },
  {
   "cell_type": "code",
   "execution_count": 155,
   "metadata": {},
   "outputs": [
    {
     "name": "stdout",
     "output_type": "stream",
     "text": [
      "Epoch 1/50\n",
      "189/189 [==============================] - 2s 2ms/step - loss: 0.0246\n",
      "Epoch 2/50\n",
      "189/189 [==============================] - 0s 2ms/step - loss: 0.0031\n",
      "Epoch 3/50\n",
      "189/189 [==============================] - 0s 2ms/step - loss: 0.0027\n",
      "Epoch 4/50\n",
      "189/189 [==============================] - 0s 2ms/step - loss: 0.0026\n",
      "Epoch 5/50\n",
      "189/189 [==============================] - 0s 2ms/step - loss: 0.0026\n",
      "Epoch 6/50\n",
      "189/189 [==============================] - 0s 2ms/step - loss: 0.0025\n",
      "Epoch 7/50\n",
      "189/189 [==============================] - 0s 2ms/step - loss: 0.0024\n",
      "Epoch 8/50\n",
      "189/189 [==============================] - 0s 2ms/step - loss: 0.0024\n",
      "Epoch 9/50\n",
      "189/189 [==============================] - 0s 2ms/step - loss: 0.0020\n",
      "Epoch 10/50\n",
      "189/189 [==============================] - 0s 2ms/step - loss: 0.0021\n",
      "Epoch 11/50\n",
      "189/189 [==============================] - 0s 2ms/step - loss: 0.0022\n",
      "Epoch 12/50\n",
      "189/189 [==============================] - 0s 2ms/step - loss: 0.0020\n",
      "Epoch 13/50\n",
      "189/189 [==============================] - 0s 2ms/step - loss: 0.0019\n",
      "Epoch 14/50\n",
      "189/189 [==============================] - 0s 2ms/step - loss: 0.0019\n",
      "Epoch 15/50\n",
      "189/189 [==============================] - 0s 2ms/step - loss: 0.0018\n",
      "Epoch 16/50\n",
      "189/189 [==============================] - 0s 2ms/step - loss: 0.0016\n",
      "Epoch 17/50\n",
      "189/189 [==============================] - 0s 2ms/step - loss: 0.0015\n",
      "Epoch 18/50\n",
      "189/189 [==============================] - 0s 2ms/step - loss: 0.0012\n",
      "Epoch 19/50\n",
      "189/189 [==============================] - 0s 2ms/step - loss: 0.0013\n",
      "Epoch 20/50\n",
      "189/189 [==============================] - 0s 2ms/step - loss: 0.0012\n",
      "Epoch 21/50\n",
      "189/189 [==============================] - 0s 2ms/step - loss: 0.0011\n",
      "Epoch 22/50\n",
      "189/189 [==============================] - 0s 2ms/step - loss: 9.3096e-04\n",
      "Epoch 23/50\n",
      "189/189 [==============================] - 0s 2ms/step - loss: 8.3809e-04\n",
      "Epoch 24/50\n",
      "189/189 [==============================] - 0s 2ms/step - loss: 8.7754e-04\n",
      "Epoch 25/50\n",
      "189/189 [==============================] - 0s 2ms/step - loss: 7.8814e-04\n",
      "Epoch 26/50\n",
      "189/189 [==============================] - 0s 2ms/step - loss: 7.0880e-04\n",
      "Epoch 27/50\n",
      "189/189 [==============================] - 0s 2ms/step - loss: 6.5737e-04\n",
      "Epoch 28/50\n",
      "189/189 [==============================] - 0s 3ms/step - loss: 6.4357e-04\n",
      "Epoch 29/50\n",
      "189/189 [==============================] - 0s 2ms/step - loss: 6.2953e-04\n",
      "Epoch 30/50\n",
      "189/189 [==============================] - 0s 2ms/step - loss: 6.4719e-04\n",
      "Epoch 31/50\n",
      "189/189 [==============================] - 0s 2ms/step - loss: 5.5770e-04\n",
      "Epoch 32/50\n",
      "189/189 [==============================] - 0s 2ms/step - loss: 6.4902e-04\n",
      "Epoch 33/50\n",
      "189/189 [==============================] - 0s 2ms/step - loss: 5.4880e-04\n",
      "Epoch 34/50\n",
      "189/189 [==============================] - 0s 2ms/step - loss: 5.5447e-04\n",
      "Epoch 35/50\n",
      "189/189 [==============================] - 0s 2ms/step - loss: 5.3569e-04\n",
      "Epoch 36/50\n",
      "189/189 [==============================] - 1s 3ms/step - loss: 5.4342e-04\n",
      "Epoch 37/50\n",
      "189/189 [==============================] - 1s 3ms/step - loss: 5.0808e-04\n",
      "Epoch 38/50\n",
      "189/189 [==============================] - 0s 2ms/step - loss: 5.6827e-04\n",
      "Epoch 39/50\n",
      "189/189 [==============================] - 1s 3ms/step - loss: 5.3485e-04\n",
      "Epoch 40/50\n",
      "189/189 [==============================] - 0s 3ms/step - loss: 5.6721e-04\n",
      "Epoch 41/50\n",
      "189/189 [==============================] - 0s 3ms/step - loss: 5.0827e-04\n",
      "Epoch 42/50\n",
      "189/189 [==============================] - 1s 3ms/step - loss: 5.3230e-04\n",
      "Epoch 43/50\n",
      "189/189 [==============================] - 0s 2ms/step - loss: 5.5384e-04\n",
      "Epoch 44/50\n",
      "189/189 [==============================] - 1s 3ms/step - loss: 5.1710e-04\n",
      "Epoch 45/50\n",
      "189/189 [==============================] - 0s 2ms/step - loss: 5.3331e-04\n",
      "Epoch 46/50\n",
      "189/189 [==============================] - 0s 2ms/step - loss: 5.6344e-04\n",
      "Epoch 47/50\n",
      "189/189 [==============================] - 1s 3ms/step - loss: 5.4384e-04\n",
      "Epoch 48/50\n",
      "189/189 [==============================] - 1s 3ms/step - loss: 5.3395e-04\n",
      "Epoch 49/50\n",
      "189/189 [==============================] - 0s 3ms/step - loss: 5.7598e-04\n",
      "Epoch 50/50\n",
      "189/189 [==============================] - 1s 3ms/step - loss: 5.1471e-04\n"
     ]
    },
    {
     "data": {
      "text/plain": [
       "<keras.callbacks.History at 0x21eb89b24c0>"
      ]
     },
     "execution_count": 155,
     "metadata": {},
     "output_type": "execute_result"
    }
   ],
   "source": [
    "# Modelo 2\n",
    "modelo2 = tf.keras.models.Sequential([\n",
    "    tf.keras.layers.LSTM(50, input_shape=(look_back, 1)),\n",
    "    tf.keras.layers.Dense(1)\n",
    "])\n",
    "\n",
    "modelo2.compile(optimizer = 'rmsprop', loss = 'mean_squared_error')\n",
    "\n",
    "modelo2.fit(X_treino, y_treino, epochs = 50, batch_size = 1, verbose = 1)"
   ]
  },
  {
   "cell_type": "code",
   "execution_count": 157,
   "metadata": {},
   "outputs": [
    {
     "name": "stdout",
     "output_type": "stream",
     "text": [
      "6/6 [==============================] - 0s 2ms/step\n",
      "1/1 [==============================] - 0s 55ms/step\n"
     ]
    }
   ],
   "source": [
    "previsao_treino2 = modelo2.predict(X_treino)\n",
    "previsao_teste2 = modelo2.predict(X_teste)"
   ]
  },
  {
   "cell_type": "code",
   "execution_count": 158,
   "metadata": {},
   "outputs": [],
   "source": [
    "# Transformar de volta para a escala orignial e calcular o erro do modelo\n",
    "\n",
    "previsao_treino2 = scaler.inverse_transform(previsao_treino2)\n",
    "y_treino_rescaled2 = scaler.inverse_transform([y_treino])\n",
    "previsao_teste2 = scaler.inverse_transform(previsao_teste2)\n",
    "y_teste_rescaled2 = scaler.inverse_transform([y_teste])"
   ]
  },
  {
   "cell_type": "code",
   "execution_count": 159,
   "metadata": {},
   "outputs": [
    {
     "name": "stdout",
     "output_type": "stream",
     "text": [
      "\n",
      "RMSE em treino: 0.49\n",
      "\n",
      "\n",
      "RMSE em teste: 0.63\n",
      "\n"
     ]
    }
   ],
   "source": [
    "# Calcula o RMSE\n",
    "\n",
    "train_score2 = np.sqrt(mean_squared_error(y_treino_rescaled2[0],\n",
    "                                         previsao_treino2[:,0]))\n",
    "print(f\"\\nRMSE em treino: {train_score2:.2f}\\n\")\n",
    "\n",
    "teste_score2 = np.sqrt(mean_squared_error(y_teste_rescaled2[0],\n",
    "                                         previsao_teste2[:,0]))\n",
    "print(f\"\\nRMSE em teste: {teste_score2:.2f}\\n\")"
   ]
  },
  {
   "cell_type": "markdown",
   "metadata": {},
   "source": [
    "## CALCULANDO ERRO do modelo 1"
   ]
  },
  {
   "cell_type": "code",
   "execution_count": 53,
   "metadata": {},
   "outputs": [],
   "source": [
    "# Transformar de volta para a escala orignial e calcular o erro do modelo\n",
    "\n",
    "previsao_treino = scaler.inverse_transform(previsao_treino)\n",
    "y_treino_rescaled = scaler.inverse_transform([y_treino])\n",
    "previsao_teste = scaler.inverse_transform(previsao_teste)\n",
    "y_teste_rescaled = scaler.inverse_transform([y_teste])"
   ]
  },
  {
   "cell_type": "code",
   "execution_count": 54,
   "metadata": {},
   "outputs": [
    {
     "data": {
      "text/plain": [
       "array([[ 2.  ,  2.75,  3.5 ,  4.25,  5.25,  6.25,  7.75,  9.25, 10.75,\n",
       "        11.75, 12.75, 13.25, 13.75, 13.75, 13.75, 13.75, 13.75, 13.75,\n",
       "        13.75, 13.75, 13.25, 12.75, 12.25, 11.75, 11.25, 10.75, 10.5 ,\n",
       "        10.5 , 10.5 , 10.75, 11.25]])"
      ]
     },
     "execution_count": 54,
     "metadata": {},
     "output_type": "execute_result"
    }
   ],
   "source": [
    "y_teste_rescaled"
   ]
  },
  {
   "cell_type": "code",
   "execution_count": 55,
   "metadata": {},
   "outputs": [
    {
     "name": "stdout",
     "output_type": "stream",
     "text": [
      "\n",
      "RMSE em treino: 0.50\n",
      "\n",
      "\n",
      "RMSE em teste: 0.54\n",
      "\n"
     ]
    }
   ],
   "source": [
    "# Calcula o RMSE\n",
    "\n",
    "train_score = np.sqrt(mean_squared_error(y_treino_rescaled[0],\n",
    "                                         previsao_treino[:,0]))\n",
    "print(f\"\\nRMSE em treino: {train_score:.2f}\\n\")\n",
    "\n",
    "teste_score = np.sqrt(mean_squared_error(y_teste_rescaled[0],\n",
    "                                         previsao_teste[:,0]))\n",
    "print(f\"\\nRMSE em teste: {teste_score:.2f}\\n\")"
   ]
  },
  {
   "cell_type": "code",
   "execution_count": 56,
   "metadata": {},
   "outputs": [
    {
     "name": "stdout",
     "output_type": "stream",
     "text": [
      "1/1 [==============================] - 0s 19ms/step\n",
      "1/1 [==============================] - 0s 20ms/step\n",
      "\n",
      "Previsão da Taxa de Juros Para 2024: 11.62\n",
      "Previsão da Inflação Para 2025: 12.03\n",
      "\n",
      "Lab Concluído. Obrigado, DSA!\n"
     ]
    }
   ],
   "source": [
    "last_data = dados_teste_norm[-look_back:]\n",
    "last_data = np.reshape(last_data, (1, look_back, 1))\n",
    "\n",
    "# Lista\n",
    "lista_previsoes = []\n",
    "\n",
    "# Loop de Previsão para prever 2 anos (2024 e 2025)\n",
    "for _ in range(2):  \n",
    "\n",
    "    # Previsão com o modelo (usamos os dados normalizados)\n",
    "    prediction = modelo.predict(last_data)\n",
    "\n",
    "    # Adiciona a previsão à lista de previsões\n",
    "    lista_previsoes.append(prediction[0, 0])\n",
    "\n",
    "    # Atualiza os dados para incluir a nova previsão e remover o valor mais antigo\n",
    "    last_data = np.roll(last_data, shift = -1)\n",
    "    last_data[0, look_back - 1, 0] = prediction\n",
    "\n",
    "# Transformar de volta para a escala original\n",
    "lista_previsoes_rescaled = scaler.inverse_transform(np.array(lista_previsoes).reshape(-1, 1))\n",
    "\n",
    "print(f\"\\nPrevisão da Taxa de Juros Para 2024: {lista_previsoes_rescaled[0, 0]:.2f}\")\n",
    "print(f\"Previsão da Inflação Para 2025: {lista_previsoes_rescaled[1, 0]:.2f}\")\n",
    "\n",
    "print(\"\\nLab Concluído. Obrigado, DSA!\")\n"
   ]
  },
  {
   "cell_type": "code",
   "execution_count": 57,
   "metadata": {},
   "outputs": [],
   "source": [
    "def arredondar_decimal(valor):\n",
    "    # Multiplicamos por 20, arredondamos para o inteiro mais próximo e depois dividimos por 20\n",
    "    return math.floor(valor * 20) / 20\n",
    "    \n"
   ]
  },
  {
   "cell_type": "code",
   "execution_count": 58,
   "metadata": {},
   "outputs": [],
   "source": [
    "dict_previsao = {\n",
    "   'Data': [\"11/12/2024\", \"29/01/2025\"],\n",
    "   'Taxa_Selic': [arredondar_decimal(round(lista_previsoes_rescaled[0, 0],2)), arredondar_decimal(round(lista_previsoes_rescaled[1, 0],2))]\n",
    "}\n",
    "\n",
    "previsoes = pd.DataFrame(dict_previsao)"
   ]
  },
  {
   "cell_type": "code",
   "execution_count": 59,
   "metadata": {},
   "outputs": [
    {
     "data": {
      "text/html": [
       "<div>\n",
       "<style scoped>\n",
       "    .dataframe tbody tr th:only-of-type {\n",
       "        vertical-align: middle;\n",
       "    }\n",
       "\n",
       "    .dataframe tbody tr th {\n",
       "        vertical-align: top;\n",
       "    }\n",
       "\n",
       "    .dataframe thead th {\n",
       "        text-align: right;\n",
       "    }\n",
       "</style>\n",
       "<table border=\"1\" class=\"dataframe\">\n",
       "  <thead>\n",
       "    <tr style=\"text-align: right;\">\n",
       "      <th></th>\n",
       "      <th>Data</th>\n",
       "      <th>Taxa_Selic</th>\n",
       "    </tr>\n",
       "  </thead>\n",
       "  <tbody>\n",
       "    <tr>\n",
       "      <th>0</th>\n",
       "      <td>11/12/2024</td>\n",
       "      <td>11.6</td>\n",
       "    </tr>\n",
       "    <tr>\n",
       "      <th>1</th>\n",
       "      <td>29/01/2025</td>\n",
       "      <td>12.0</td>\n",
       "    </tr>\n",
       "  </tbody>\n",
       "</table>\n",
       "</div>"
      ],
      "text/plain": [
       "         Data  Taxa_Selic\n",
       "0  11/12/2024        11.6\n",
       "1  29/01/2025        12.0"
      ]
     },
     "execution_count": 59,
     "metadata": {},
     "output_type": "execute_result"
    }
   ],
   "source": [
    "previsoes"
   ]
  },
  {
   "cell_type": "code",
   "execution_count": 75,
   "metadata": {},
   "outputs": [
    {
     "name": "stderr",
     "output_type": "stream",
     "text": [
      "C:\\Users\\alyss\\AppData\\Local\\Temp\\ipykernel_5024\\3599250906.py:4: SettingWithCopyWarning:\n",
      "\n",
      "\n",
      "A value is trying to be set on a copy of a slice from a DataFrame.\n",
      "Try using .loc[row_indexer,col_indexer] = value instead\n",
      "\n",
      "See the caveats in the documentation: https://pandas.pydata.org/pandas-docs/stable/user_guide/indexing.html#returning-a-view-versus-a-copy\n",
      "\n",
      "C:\\Users\\alyss\\AppData\\Local\\Temp\\ipykernel_5024\\3599250906.py:8: SettingWithCopyWarning:\n",
      "\n",
      "\n",
      "A value is trying to be set on a copy of a slice from a DataFrame.\n",
      "Try using .loc[row_indexer,col_indexer] = value instead\n",
      "\n",
      "See the caveats in the documentation: https://pandas.pydata.org/pandas-docs/stable/user_guide/indexing.html#returning-a-view-versus-a-copy\n",
      "\n"
     ]
    }
   ],
   "source": [
    "import plotly.express as px\n",
    "\n",
    "# Convertendo a coluna \"Data\" para datetime\n",
    "dados_selic[\"Data\"] = pd.to_datetime(dados_selic[\"Data\"], format=\"%d/%m/%Y\")\n",
    "previsoes[\"Data\"] = pd.to_datetime(previsoes[\"Data\"], format=\"%d/%m/%Y\")\n",
    "\n",
    "# Adicionando a coluna \"Origem\"\n",
    "dados_selic[\"Origem\"] = \"Histórico\"\n",
    "previsoes[\"Origem\"] = \"Previsão\"\n",
    "\n",
    "# Concatenando os DataFrames\n",
    "df_unido = pd.concat([dados_selic, previsoes], ignore_index=True)\n",
    "\n",
    "# Filtrando dados a partir de 2010\n",
    "df_filtrado = df_unido[df_unido[\"Data\"] >= \"2020-01-01\"]\n"
   ]
  },
  {
   "cell_type": "code",
   "execution_count": 153,
   "metadata": {},
   "outputs": [
    {
     "data": {
      "application/vnd.plotly.v1+json": {
       "config": {
        "plotlyServerURL": "https://plot.ly"
       },
       "data": [
        {
         "hovertemplate": "Origem=Histórico<br>Data (Ano)=%{x}<br>Taxa Selic (%)=%{y}<extra></extra>",
         "legendgroup": "Histórico",
         "line": {
          "color": "rgb(252, 157, 104)",
          "dash": "solid"
         },
         "marker": {
          "symbol": "circle"
         },
         "mode": "markers+lines",
         "name": "Histórico",
         "orientation": "v",
         "showlegend": true,
         "type": "scatter",
         "x": [
          "2020-02-05T00:00:00",
          "2020-03-18T00:00:00",
          "2020-05-06T00:00:00",
          "2020-06-17T00:00:00",
          "2020-08-05T00:00:00",
          "2020-09-16T00:00:00",
          "2020-10-28T00:00:00",
          "2020-12-09T00:00:00",
          "2021-01-20T00:00:00",
          "2021-03-17T00:00:00",
          "2021-05-05T00:00:00",
          "2021-06-16T00:00:00",
          "2021-08-04T00:00:00",
          "2021-09-22T00:00:00",
          "2021-10-27T00:00:00",
          "2021-12-08T00:00:00",
          "2022-02-02T00:00:00",
          "2022-03-16T00:00:00",
          "2022-05-04T00:00:00",
          "2022-06-15T00:00:00",
          "2022-08-03T00:00:00",
          "2022-09-21T00:00:00",
          "2022-10-26T00:00:00",
          "2022-12-07T00:00:00",
          "2023-02-01T00:00:00",
          "2023-03-22T00:00:00",
          "2023-05-03T00:00:00",
          "2023-06-21T00:00:00",
          "2023-08-02T00:00:00",
          "2023-09-20T00:00:00",
          "2023-11-01T00:00:00",
          "2023-12-13T00:00:00",
          "2024-01-31T00:00:00",
          "2024-03-20T00:00:00",
          "2024-05-08T00:00:00",
          "2024-06-19T00:00:00",
          "2024-07-31T00:00:00",
          "2024-09-18T00:00:00",
          "2024-11-06T00:00:00"
         ],
         "xaxis": "x",
         "y": [
          4.25,
          3.75,
          3,
          2.25,
          2,
          2,
          2,
          2,
          2,
          2.75,
          3.5,
          4.25,
          5.25,
          6.25,
          7.75,
          9.25,
          10.75,
          11.75,
          12.75,
          13.25,
          13.75,
          13.75,
          13.75,
          13.75,
          13.75,
          13.75,
          13.75,
          13.75,
          13.25,
          12.75,
          12.25,
          11.75,
          11.25,
          10.75,
          10.5,
          10.5,
          10.5,
          10.75,
          11.25
         ],
         "yaxis": "y"
        },
        {
         "hovertemplate": "Origem=Previsão<br>Data (Ano)=%{x}<br>Taxa Selic (%)=%{y}<extra></extra>",
         "legendgroup": "Previsão",
         "line": {
          "color": "rgb(164, 0, 0)",
          "dash": "solid"
         },
         "marker": {
          "symbol": "circle"
         },
         "mode": "markers+lines",
         "name": "Previsão",
         "orientation": "v",
         "showlegend": true,
         "type": "scatter",
         "x": [
          "2024-12-11T00:00:00",
          "2025-01-29T00:00:00"
         ],
         "xaxis": "x",
         "y": [
          11.6,
          12
         ],
         "yaxis": "y"
        }
       ],
       "layout": {
        "annotations": [
         {
          "arrowcolor": "rgb(164, 0, 0)",
          "arrowhead": 5,
          "ax": 10,
          "ay": 30,
          "font": {
           "color": "rgb(164, 0, 0)",
           "size": 12
          },
          "showarrow": true,
          "text": "11.6%",
          "textangle": -40,
          "x": "2024-12-11T00:00:00",
          "y": 11.6
         },
         {
          "arrowcolor": "rgb(164, 0, 0)",
          "arrowhead": 5,
          "ax": 10,
          "ay": 30,
          "font": {
           "color": "rgb(164, 0, 0)",
           "size": 12
          },
          "showarrow": true,
          "text": "12.0%",
          "textangle": -40,
          "x": "2025-01-29T00:00:00",
          "y": 12
         }
        ],
        "legend": {
         "title": {
          "text": "Origem"
         },
         "tracegroupgap": 0
        },
        "template": {
         "data": {
          "bar": [
           {
            "error_x": {
             "color": "#2a3f5f"
            },
            "error_y": {
             "color": "#2a3f5f"
            },
            "marker": {
             "line": {
              "color": "#E5ECF6",
              "width": 0.5
             },
             "pattern": {
              "fillmode": "overlay",
              "size": 10,
              "solidity": 0.2
             }
            },
            "type": "bar"
           }
          ],
          "barpolar": [
           {
            "marker": {
             "line": {
              "color": "#E5ECF6",
              "width": 0.5
             },
             "pattern": {
              "fillmode": "overlay",
              "size": 10,
              "solidity": 0.2
             }
            },
            "type": "barpolar"
           }
          ],
          "carpet": [
           {
            "aaxis": {
             "endlinecolor": "#2a3f5f",
             "gridcolor": "white",
             "linecolor": "white",
             "minorgridcolor": "white",
             "startlinecolor": "#2a3f5f"
            },
            "baxis": {
             "endlinecolor": "#2a3f5f",
             "gridcolor": "white",
             "linecolor": "white",
             "minorgridcolor": "white",
             "startlinecolor": "#2a3f5f"
            },
            "type": "carpet"
           }
          ],
          "choropleth": [
           {
            "colorbar": {
             "outlinewidth": 0,
             "ticks": ""
            },
            "type": "choropleth"
           }
          ],
          "contour": [
           {
            "colorbar": {
             "outlinewidth": 0,
             "ticks": ""
            },
            "colorscale": [
             [
              0,
              "#0d0887"
             ],
             [
              0.1111111111111111,
              "#46039f"
             ],
             [
              0.2222222222222222,
              "#7201a8"
             ],
             [
              0.3333333333333333,
              "#9c179e"
             ],
             [
              0.4444444444444444,
              "#bd3786"
             ],
             [
              0.5555555555555556,
              "#d8576b"
             ],
             [
              0.6666666666666666,
              "#ed7953"
             ],
             [
              0.7777777777777778,
              "#fb9f3a"
             ],
             [
              0.8888888888888888,
              "#fdca26"
             ],
             [
              1,
              "#f0f921"
             ]
            ],
            "type": "contour"
           }
          ],
          "contourcarpet": [
           {
            "colorbar": {
             "outlinewidth": 0,
             "ticks": ""
            },
            "type": "contourcarpet"
           }
          ],
          "heatmap": [
           {
            "colorbar": {
             "outlinewidth": 0,
             "ticks": ""
            },
            "colorscale": [
             [
              0,
              "#0d0887"
             ],
             [
              0.1111111111111111,
              "#46039f"
             ],
             [
              0.2222222222222222,
              "#7201a8"
             ],
             [
              0.3333333333333333,
              "#9c179e"
             ],
             [
              0.4444444444444444,
              "#bd3786"
             ],
             [
              0.5555555555555556,
              "#d8576b"
             ],
             [
              0.6666666666666666,
              "#ed7953"
             ],
             [
              0.7777777777777778,
              "#fb9f3a"
             ],
             [
              0.8888888888888888,
              "#fdca26"
             ],
             [
              1,
              "#f0f921"
             ]
            ],
            "type": "heatmap"
           }
          ],
          "heatmapgl": [
           {
            "colorbar": {
             "outlinewidth": 0,
             "ticks": ""
            },
            "colorscale": [
             [
              0,
              "#0d0887"
             ],
             [
              0.1111111111111111,
              "#46039f"
             ],
             [
              0.2222222222222222,
              "#7201a8"
             ],
             [
              0.3333333333333333,
              "#9c179e"
             ],
             [
              0.4444444444444444,
              "#bd3786"
             ],
             [
              0.5555555555555556,
              "#d8576b"
             ],
             [
              0.6666666666666666,
              "#ed7953"
             ],
             [
              0.7777777777777778,
              "#fb9f3a"
             ],
             [
              0.8888888888888888,
              "#fdca26"
             ],
             [
              1,
              "#f0f921"
             ]
            ],
            "type": "heatmapgl"
           }
          ],
          "histogram": [
           {
            "marker": {
             "pattern": {
              "fillmode": "overlay",
              "size": 10,
              "solidity": 0.2
             }
            },
            "type": "histogram"
           }
          ],
          "histogram2d": [
           {
            "colorbar": {
             "outlinewidth": 0,
             "ticks": ""
            },
            "colorscale": [
             [
              0,
              "#0d0887"
             ],
             [
              0.1111111111111111,
              "#46039f"
             ],
             [
              0.2222222222222222,
              "#7201a8"
             ],
             [
              0.3333333333333333,
              "#9c179e"
             ],
             [
              0.4444444444444444,
              "#bd3786"
             ],
             [
              0.5555555555555556,
              "#d8576b"
             ],
             [
              0.6666666666666666,
              "#ed7953"
             ],
             [
              0.7777777777777778,
              "#fb9f3a"
             ],
             [
              0.8888888888888888,
              "#fdca26"
             ],
             [
              1,
              "#f0f921"
             ]
            ],
            "type": "histogram2d"
           }
          ],
          "histogram2dcontour": [
           {
            "colorbar": {
             "outlinewidth": 0,
             "ticks": ""
            },
            "colorscale": [
             [
              0,
              "#0d0887"
             ],
             [
              0.1111111111111111,
              "#46039f"
             ],
             [
              0.2222222222222222,
              "#7201a8"
             ],
             [
              0.3333333333333333,
              "#9c179e"
             ],
             [
              0.4444444444444444,
              "#bd3786"
             ],
             [
              0.5555555555555556,
              "#d8576b"
             ],
             [
              0.6666666666666666,
              "#ed7953"
             ],
             [
              0.7777777777777778,
              "#fb9f3a"
             ],
             [
              0.8888888888888888,
              "#fdca26"
             ],
             [
              1,
              "#f0f921"
             ]
            ],
            "type": "histogram2dcontour"
           }
          ],
          "mesh3d": [
           {
            "colorbar": {
             "outlinewidth": 0,
             "ticks": ""
            },
            "type": "mesh3d"
           }
          ],
          "parcoords": [
           {
            "line": {
             "colorbar": {
              "outlinewidth": 0,
              "ticks": ""
             }
            },
            "type": "parcoords"
           }
          ],
          "pie": [
           {
            "automargin": true,
            "type": "pie"
           }
          ],
          "scatter": [
           {
            "fillpattern": {
             "fillmode": "overlay",
             "size": 10,
             "solidity": 0.2
            },
            "type": "scatter"
           }
          ],
          "scatter3d": [
           {
            "line": {
             "colorbar": {
              "outlinewidth": 0,
              "ticks": ""
             }
            },
            "marker": {
             "colorbar": {
              "outlinewidth": 0,
              "ticks": ""
             }
            },
            "type": "scatter3d"
           }
          ],
          "scattercarpet": [
           {
            "marker": {
             "colorbar": {
              "outlinewidth": 0,
              "ticks": ""
             }
            },
            "type": "scattercarpet"
           }
          ],
          "scattergeo": [
           {
            "marker": {
             "colorbar": {
              "outlinewidth": 0,
              "ticks": ""
             }
            },
            "type": "scattergeo"
           }
          ],
          "scattergl": [
           {
            "marker": {
             "colorbar": {
              "outlinewidth": 0,
              "ticks": ""
             }
            },
            "type": "scattergl"
           }
          ],
          "scattermapbox": [
           {
            "marker": {
             "colorbar": {
              "outlinewidth": 0,
              "ticks": ""
             }
            },
            "type": "scattermapbox"
           }
          ],
          "scatterpolar": [
           {
            "marker": {
             "colorbar": {
              "outlinewidth": 0,
              "ticks": ""
             }
            },
            "type": "scatterpolar"
           }
          ],
          "scatterpolargl": [
           {
            "marker": {
             "colorbar": {
              "outlinewidth": 0,
              "ticks": ""
             }
            },
            "type": "scatterpolargl"
           }
          ],
          "scatterternary": [
           {
            "marker": {
             "colorbar": {
              "outlinewidth": 0,
              "ticks": ""
             }
            },
            "type": "scatterternary"
           }
          ],
          "surface": [
           {
            "colorbar": {
             "outlinewidth": 0,
             "ticks": ""
            },
            "colorscale": [
             [
              0,
              "#0d0887"
             ],
             [
              0.1111111111111111,
              "#46039f"
             ],
             [
              0.2222222222222222,
              "#7201a8"
             ],
             [
              0.3333333333333333,
              "#9c179e"
             ],
             [
              0.4444444444444444,
              "#bd3786"
             ],
             [
              0.5555555555555556,
              "#d8576b"
             ],
             [
              0.6666666666666666,
              "#ed7953"
             ],
             [
              0.7777777777777778,
              "#fb9f3a"
             ],
             [
              0.8888888888888888,
              "#fdca26"
             ],
             [
              1,
              "#f0f921"
             ]
            ],
            "type": "surface"
           }
          ],
          "table": [
           {
            "cells": {
             "fill": {
              "color": "#EBF0F8"
             },
             "line": {
              "color": "white"
             }
            },
            "header": {
             "fill": {
              "color": "#C8D4E3"
             },
             "line": {
              "color": "white"
             }
            },
            "type": "table"
           }
          ]
         },
         "layout": {
          "annotationdefaults": {
           "arrowcolor": "#2a3f5f",
           "arrowhead": 0,
           "arrowwidth": 1
          },
          "autotypenumbers": "strict",
          "coloraxis": {
           "colorbar": {
            "outlinewidth": 0,
            "ticks": ""
           }
          },
          "colorscale": {
           "diverging": [
            [
             0,
             "#8e0152"
            ],
            [
             0.1,
             "#c51b7d"
            ],
            [
             0.2,
             "#de77ae"
            ],
            [
             0.3,
             "#f1b6da"
            ],
            [
             0.4,
             "#fde0ef"
            ],
            [
             0.5,
             "#f7f7f7"
            ],
            [
             0.6,
             "#e6f5d0"
            ],
            [
             0.7,
             "#b8e186"
            ],
            [
             0.8,
             "#7fbc41"
            ],
            [
             0.9,
             "#4d9221"
            ],
            [
             1,
             "#276419"
            ]
           ],
           "sequential": [
            [
             0,
             "#0d0887"
            ],
            [
             0.1111111111111111,
             "#46039f"
            ],
            [
             0.2222222222222222,
             "#7201a8"
            ],
            [
             0.3333333333333333,
             "#9c179e"
            ],
            [
             0.4444444444444444,
             "#bd3786"
            ],
            [
             0.5555555555555556,
             "#d8576b"
            ],
            [
             0.6666666666666666,
             "#ed7953"
            ],
            [
             0.7777777777777778,
             "#fb9f3a"
            ],
            [
             0.8888888888888888,
             "#fdca26"
            ],
            [
             1,
             "#f0f921"
            ]
           ],
           "sequentialminus": [
            [
             0,
             "#0d0887"
            ],
            [
             0.1111111111111111,
             "#46039f"
            ],
            [
             0.2222222222222222,
             "#7201a8"
            ],
            [
             0.3333333333333333,
             "#9c179e"
            ],
            [
             0.4444444444444444,
             "#bd3786"
            ],
            [
             0.5555555555555556,
             "#d8576b"
            ],
            [
             0.6666666666666666,
             "#ed7953"
            ],
            [
             0.7777777777777778,
             "#fb9f3a"
            ],
            [
             0.8888888888888888,
             "#fdca26"
            ],
            [
             1,
             "#f0f921"
            ]
           ]
          },
          "colorway": [
           "#636efa",
           "#EF553B",
           "#00cc96",
           "#ab63fa",
           "#FFA15A",
           "#19d3f3",
           "#FF6692",
           "#B6E880",
           "#FF97FF",
           "#FECB52"
          ],
          "font": {
           "color": "#2a3f5f"
          },
          "geo": {
           "bgcolor": "white",
           "lakecolor": "white",
           "landcolor": "#E5ECF6",
           "showlakes": true,
           "showland": true,
           "subunitcolor": "white"
          },
          "hoverlabel": {
           "align": "left"
          },
          "hovermode": "closest",
          "mapbox": {
           "style": "light"
          },
          "paper_bgcolor": "white",
          "plot_bgcolor": "#E5ECF6",
          "polar": {
           "angularaxis": {
            "gridcolor": "white",
            "linecolor": "white",
            "ticks": ""
           },
           "bgcolor": "#E5ECF6",
           "radialaxis": {
            "gridcolor": "white",
            "linecolor": "white",
            "ticks": ""
           }
          },
          "scene": {
           "xaxis": {
            "backgroundcolor": "#E5ECF6",
            "gridcolor": "white",
            "gridwidth": 2,
            "linecolor": "white",
            "showbackground": true,
            "ticks": "",
            "zerolinecolor": "white"
           },
           "yaxis": {
            "backgroundcolor": "#E5ECF6",
            "gridcolor": "white",
            "gridwidth": 2,
            "linecolor": "white",
            "showbackground": true,
            "ticks": "",
            "zerolinecolor": "white"
           },
           "zaxis": {
            "backgroundcolor": "#E5ECF6",
            "gridcolor": "white",
            "gridwidth": 2,
            "linecolor": "white",
            "showbackground": true,
            "ticks": "",
            "zerolinecolor": "white"
           }
          },
          "shapedefaults": {
           "line": {
            "color": "#2a3f5f"
           }
          },
          "ternary": {
           "aaxis": {
            "gridcolor": "white",
            "linecolor": "white",
            "ticks": ""
           },
           "baxis": {
            "gridcolor": "white",
            "linecolor": "white",
            "ticks": ""
           },
           "bgcolor": "#E5ECF6",
           "caxis": {
            "gridcolor": "white",
            "linecolor": "white",
            "ticks": ""
           }
          },
          "title": {
           "x": 0.05
          },
          "xaxis": {
           "automargin": true,
           "gridcolor": "white",
           "linecolor": "white",
           "ticks": "",
           "title": {
            "standoff": 15
           },
           "zerolinecolor": "white",
           "zerolinewidth": 2
          },
          "yaxis": {
           "automargin": true,
           "gridcolor": "white",
           "linecolor": "white",
           "ticks": "",
           "title": {
            "standoff": 15
           },
           "zerolinecolor": "white",
           "zerolinewidth": 2
          }
         }
        },
        "title": {
         "font": {
          "color": "gray"
         },
         "text": "Taxa Selic (2020 em diante)"
        },
        "xaxis": {
         "anchor": "y",
         "domain": [
          0,
          1
         ],
         "tickfont": {
          "color": "lightgray",
          "size": 13
         },
         "tickformat": "%Y",
         "title": {
          "font": {
           "color": "gray"
          },
          "text": "Data (Ano)"
         }
        },
        "yaxis": {
         "anchor": "x",
         "domain": [
          0,
          1
         ],
         "tickfont": {
          "color": "lightgray",
          "size": 13
         },
         "title": {
          "font": {
           "color": "gray"
          },
          "text": "Taxa Selic (%)"
         }
        }
       }
      }
     },
     "metadata": {},
     "output_type": "display_data"
    }
   ],
   "source": [
    "# # Plot com a paleta ajustada\n",
    "fig = px.line(\n",
    "    df_filtrado,\n",
    "    x=\"Data\",\n",
    "    y=\"Taxa_Selic\",\n",
    "    color=\"Origem\",\n",
    "    title=\"Taxa Selic (2010 em diante)\",\n",
    "    labels={\"Data\": \"Data (Ano)\", \"Taxa_Selic\": \"Taxa Selic (%)\"},\n",
    "    color_discrete_map=color_discrete_map,\n",
    "    markers=True\n",
    ")\n",
    "\n",
    "# Adicionando os valores como texto nos pontos de previsão\n",
    "for i, row in df_filtrado[df_filtrado[\"Origem\"] == \"Previsão\"].iterrows():\n",
    "    fig.add_annotation(\n",
    "        x=row[\"Data\"],\n",
    "        y=row[\"Taxa_Selic\"],\n",
    "        text=f\"{row['Taxa_Selic']}%\",  # Exibe o valor formatado\n",
    "        showarrow=True,\n",
    "        arrowhead=5,\n",
    "        ax=10,\n",
    "        ay=30,\n",
    "        font=dict(color=\"rgb(164, 0, 0)\", size=12),\n",
    "        textangle=-40,\n",
    "        arrowcolor=\"rgb(164, 0, 0)\"\n",
    "    )\n",
    "\n",
    "fig.update_layout(\n",
    "    xaxis=dict(\n",
    "        tickformat=\"%Y\",\n",
    "        title=dict(text=\"Data (Ano)\", font=dict(color=\"gray\")),  # Cor do título do eixo X\n",
    "        tickfont=dict(color=\"lightgray\", size=13)  # Cor dos ticks do eixo X\n",
    "    ),\n",
    "    yaxis=dict(\n",
    "        title=dict(text=\"Taxa Selic (%)\", font=dict(color=\"gray\")),  # Cor do título do eixo Y\n",
    "        tickfont=dict(color=\"lightgray\", size=13)  # Cor dos ticks do eixo Y\n",
    "    ),\n",
    "    title=dict(\n",
    "        text=\"Taxa Selic (2020 em diante)\",  # Texto do título\n",
    "        font=dict(color=\"gray\")  # Título em negrito\n",
    "    )\n",
    ")\n",
    "\n",
    "\n",
    "# Ajustando o layout\n",
    "fig.update_layout(xaxis=dict(tickformat=\"%Y\"))\n",
    "fig.show()"
   ]
  }
 ],
 "metadata": {
  "kernelspec": {
   "display_name": "base",
   "language": "python",
   "name": "python3"
  },
  "language_info": {
   "codemirror_mode": {
    "name": "ipython",
    "version": 3
   },
   "file_extension": ".py",
   "mimetype": "text/x-python",
   "name": "python",
   "nbconvert_exporter": "python",
   "pygments_lexer": "ipython3",
   "version": "3.9.13"
  }
 },
 "nbformat": 4,
 "nbformat_minor": 2
}
